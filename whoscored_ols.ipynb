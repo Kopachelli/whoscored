{
 "cells": [
  {
   "cell_type": "markdown",
   "metadata": {},
   "source": [
    "### Import Package"
   ]
  },
  {
   "cell_type": "code",
   "execution_count": 1,
   "metadata": {
    "collapsed": true
   },
   "outputs": [],
   "source": [
    "%matplotlib inline\n",
    "%config InlineBackend.figure_formats = {'png', 'retina'}\n",
    "\n",
    "import pandas as pd\n",
    "import numpy as np\n",
    "import statsmodels.api as sm\n",
    "import seaborn as sns\n",
    "import MySQLdb\n",
    "\n",
    "from sklearn.preprocessing import StandardScaler\n",
    "from sklearn.linear_model import LinearRegression\n",
    "from sklearn.cross_validation import cross_val_score"
   ]
  },
  {
   "cell_type": "markdown",
   "metadata": {},
   "source": [
    "### Connect DB"
   ]
  },
  {
   "cell_type": "code",
   "execution_count": 2,
   "metadata": {
    "collapsed": true
   },
   "outputs": [],
   "source": [
    "db = MySQLdb.connect(\n",
    "    \"db.fastcamp.us\",\n",
    "    \"root\",\n",
    "    \"dkstncks\",\n",
    "    \"football\",\n",
    "    charset='utf8',\n",
    ")"
   ]
  },
  {
   "cell_type": "markdown",
   "metadata": {},
   "source": [
    "### Make Query"
   ]
  },
  {
   "cell_type": "code",
   "execution_count": 3,
   "metadata": {
    "collapsed": true
   },
   "outputs": [],
   "source": [
    "def make_query(position):\n",
    "    \"\"\"\n",
    "    \n",
    "    parameter------------\n",
    "    position : M, D, F, G\n",
    "    \n",
    "    return---------------\n",
    "    SQL_QUERY String\n",
    "    \n",
    "    \"\"\"\n",
    "    SQL_QUERY = \"\"\"\n",
    "        SELECT \n",
    "            age, tall, weight, apps_start, apps_sub, mins, goals, assists, yel, red\n",
    "            , spg, ps_x, motm, aw, tackles, inter, fouls, offsides, clear, drb, blocks\n",
    "            , owng, keyp_x, fouled, off, disp, unstch, avgp, ps_y, rating\n",
    "        FROM player\n",
    "        WHERE position like \"%{position}%\"\n",
    "        ;\n",
    "    \"\"\".format(position=position)\n",
    "    \n",
    "    return SQL_QUERY"
   ]
  },
  {
   "cell_type": "markdown",
   "metadata": {},
   "source": [
    "### Get player data each position"
   ]
  },
  {
   "cell_type": "code",
   "execution_count": 4,
   "metadata": {
    "collapsed": false
   },
   "outputs": [
    {
     "data": {
      "text/plain": [
       "(1106, 1969, 1480, 289)"
      ]
     },
     "execution_count": 4,
     "metadata": {},
     "output_type": "execute_result"
    }
   ],
   "source": [
    "# make each position player datas\n",
    "\n",
    "# forword\n",
    "SQL_QUERY = make_query(\"F\")\n",
    "forword_df = pd.read_sql(SQL_QUERY, db)\n",
    "\n",
    "# midfilder\n",
    "SQL_QUERY = make_query(\"M\")\n",
    "midfilder_df = pd.read_sql(SQL_QUERY, db)\n",
    "\n",
    "# defencer\n",
    "SQL_QUERY = make_query(\"D\")\n",
    "defencer_df = pd.read_sql(SQL_QUERY, db)\n",
    "\n",
    "# goalkeeper\n",
    "SQL_QUERY = make_query(\"G\")\n",
    "goalkeeper_df = pd.read_sql(SQL_QUERY, db)\n",
    "\n",
    "# the number of each postion player\n",
    "len(forword_df), len(midfilder_df), len(defencer_df), len(goalkeeper_df)"
   ]
  },
  {
   "cell_type": "markdown",
   "metadata": {},
   "source": [
    "### Scaling"
   ]
  },
  {
   "cell_type": "code",
   "execution_count": 5,
   "metadata": {
    "collapsed": true
   },
   "outputs": [],
   "source": [
    "X = forword_df.ix[:,:-1]\n",
    "scaler = StandardScaler(with_mean=False)\n",
    "X_scaled = scaler.fit_transform(X)"
   ]
  },
  {
   "cell_type": "code",
   "execution_count": 6,
   "metadata": {
    "collapsed": false
   },
   "outputs": [
    {
     "data": {
      "text/html": [
       "<div>\n",
       "<table border=\"1\" class=\"dataframe\">\n",
       "  <thead>\n",
       "    <tr style=\"text-align: right;\">\n",
       "      <th></th>\n",
       "      <th>const</th>\n",
       "      <th>age</th>\n",
       "      <th>tall</th>\n",
       "      <th>weight</th>\n",
       "      <th>apps_start</th>\n",
       "      <th>apps_sub</th>\n",
       "      <th>mins</th>\n",
       "      <th>goals</th>\n",
       "      <th>assists</th>\n",
       "      <th>yel</th>\n",
       "      <th>...</th>\n",
       "      <th>blocks</th>\n",
       "      <th>owng</th>\n",
       "      <th>keyp_x</th>\n",
       "      <th>fouled</th>\n",
       "      <th>off</th>\n",
       "      <th>disp</th>\n",
       "      <th>unstch</th>\n",
       "      <th>avgp</th>\n",
       "      <th>ps_y</th>\n",
       "      <th>rating</th>\n",
       "    </tr>\n",
       "  </thead>\n",
       "  <tbody>\n",
       "    <tr>\n",
       "      <th>1101</th>\n",
       "      <td>1</td>\n",
       "      <td>4.652384</td>\n",
       "      <td>4.572042</td>\n",
       "      <td>3.90497</td>\n",
       "      <td>0.194712</td>\n",
       "      <td>0.446523</td>\n",
       "      <td>0.162054</td>\n",
       "      <td>0.000000</td>\n",
       "      <td>0.0</td>\n",
       "      <td>0.000000</td>\n",
       "      <td>...</td>\n",
       "      <td>2.324998</td>\n",
       "      <td>0.0</td>\n",
       "      <td>0.920807</td>\n",
       "      <td>0.686014</td>\n",
       "      <td>0.000000</td>\n",
       "      <td>0.000000</td>\n",
       "      <td>0.356838</td>\n",
       "      <td>1.449486</td>\n",
       "      <td>4.776819</td>\n",
       "      <td>6.43</td>\n",
       "    </tr>\n",
       "    <tr>\n",
       "      <th>1102</th>\n",
       "      <td>1</td>\n",
       "      <td>6.867805</td>\n",
       "      <td>4.597302</td>\n",
       "      <td>3.70725</td>\n",
       "      <td>0.292068</td>\n",
       "      <td>1.339568</td>\n",
       "      <td>0.362371</td>\n",
       "      <td>0.193644</td>\n",
       "      <td>0.0</td>\n",
       "      <td>0.000000</td>\n",
       "      <td>...</td>\n",
       "      <td>0.465000</td>\n",
       "      <td>0.0</td>\n",
       "      <td>0.736646</td>\n",
       "      <td>1.097623</td>\n",
       "      <td>3.335241</td>\n",
       "      <td>0.136715</td>\n",
       "      <td>0.713675</td>\n",
       "      <td>0.642177</td>\n",
       "      <td>4.116320</td>\n",
       "      <td>6.23</td>\n",
       "    </tr>\n",
       "    <tr>\n",
       "      <th>1103</th>\n",
       "      <td>1</td>\n",
       "      <td>3.766216</td>\n",
       "      <td>0.000000</td>\n",
       "      <td>0.00000</td>\n",
       "      <td>0.000000</td>\n",
       "      <td>0.223261</td>\n",
       "      <td>0.007878</td>\n",
       "      <td>0.000000</td>\n",
       "      <td>0.0</td>\n",
       "      <td>0.000000</td>\n",
       "      <td>...</td>\n",
       "      <td>0.000000</td>\n",
       "      <td>0.0</td>\n",
       "      <td>1.841614</td>\n",
       "      <td>0.000000</td>\n",
       "      <td>0.000000</td>\n",
       "      <td>0.000000</td>\n",
       "      <td>1.189459</td>\n",
       "      <td>0.550438</td>\n",
       "      <td>4.912457</td>\n",
       "      <td>6.16</td>\n",
       "    </tr>\n",
       "    <tr>\n",
       "      <th>1104</th>\n",
       "      <td>1</td>\n",
       "      <td>5.317011</td>\n",
       "      <td>4.344703</td>\n",
       "      <td>3.31181</td>\n",
       "      <td>0.097356</td>\n",
       "      <td>1.786090</td>\n",
       "      <td>0.240830</td>\n",
       "      <td>0.000000</td>\n",
       "      <td>0.0</td>\n",
       "      <td>0.500306</td>\n",
       "      <td>...</td>\n",
       "      <td>0.000000</td>\n",
       "      <td>0.0</td>\n",
       "      <td>0.552484</td>\n",
       "      <td>0.823217</td>\n",
       "      <td>0.277937</td>\n",
       "      <td>1.230434</td>\n",
       "      <td>0.356838</td>\n",
       "      <td>1.018310</td>\n",
       "      <td>5.130657</td>\n",
       "      <td>6.11</td>\n",
       "    </tr>\n",
       "    <tr>\n",
       "      <th>1105</th>\n",
       "      <td>1</td>\n",
       "      <td>6.203179</td>\n",
       "      <td>4.647822</td>\n",
       "      <td>3.31181</td>\n",
       "      <td>0.194712</td>\n",
       "      <td>0.893045</td>\n",
       "      <td>0.231827</td>\n",
       "      <td>0.000000</td>\n",
       "      <td>0.0</td>\n",
       "      <td>0.000000</td>\n",
       "      <td>...</td>\n",
       "      <td>0.929999</td>\n",
       "      <td>0.0</td>\n",
       "      <td>0.368323</td>\n",
       "      <td>0.411609</td>\n",
       "      <td>0.555874</td>\n",
       "      <td>0.273430</td>\n",
       "      <td>0.237892</td>\n",
       "      <td>0.807309</td>\n",
       "      <td>4.004272</td>\n",
       "      <td>6.09</td>\n",
       "    </tr>\n",
       "  </tbody>\n",
       "</table>\n",
       "<p>5 rows × 31 columns</p>\n",
       "</div>"
      ],
      "text/plain": [
       "      const       age      tall   weight  apps_start  apps_sub      mins  \\\n",
       "1101      1  4.652384  4.572042  3.90497    0.194712  0.446523  0.162054   \n",
       "1102      1  6.867805  4.597302  3.70725    0.292068  1.339568  0.362371   \n",
       "1103      1  3.766216  0.000000  0.00000    0.000000  0.223261  0.007878   \n",
       "1104      1  5.317011  4.344703  3.31181    0.097356  1.786090  0.240830   \n",
       "1105      1  6.203179  4.647822  3.31181    0.194712  0.893045  0.231827   \n",
       "\n",
       "         goals  assists       yel   ...      blocks  owng    keyp_x    fouled  \\\n",
       "1101  0.000000      0.0  0.000000   ...    2.324998   0.0  0.920807  0.686014   \n",
       "1102  0.193644      0.0  0.000000   ...    0.465000   0.0  0.736646  1.097623   \n",
       "1103  0.000000      0.0  0.000000   ...    0.000000   0.0  1.841614  0.000000   \n",
       "1104  0.000000      0.0  0.500306   ...    0.000000   0.0  0.552484  0.823217   \n",
       "1105  0.000000      0.0  0.000000   ...    0.929999   0.0  0.368323  0.411609   \n",
       "\n",
       "           off      disp    unstch      avgp      ps_y  rating  \n",
       "1101  0.000000  0.000000  0.356838  1.449486  4.776819    6.43  \n",
       "1102  3.335241  0.136715  0.713675  0.642177  4.116320    6.23  \n",
       "1103  0.000000  0.000000  1.189459  0.550438  4.912457    6.16  \n",
       "1104  0.277937  1.230434  0.356838  1.018310  5.130657    6.11  \n",
       "1105  0.555874  0.273430  0.237892  0.807309  4.004272    6.09  \n",
       "\n",
       "[5 rows x 31 columns]"
      ]
     },
     "execution_count": 6,
     "metadata": {},
     "output_type": "execute_result"
    }
   ],
   "source": [
    "dfX0 = pd.DataFrame(X_scaled, columns=X.columns)\n",
    "dfX = sm.add_constant(dfX0)\n",
    "dfy = pd.DataFrame(forword_df.ix[:,-1], columns=[\"rating\"])\n",
    "df = pd.concat([dfX, dfy], axis=1)\n",
    "df.tail()"
   ]
  },
  {
   "cell_type": "markdown",
   "metadata": {},
   "source": [
    "### Summary OLS"
   ]
  },
  {
   "cell_type": "code",
   "execution_count": 7,
   "metadata": {
    "collapsed": false
   },
   "outputs": [
    {
     "name": "stdout",
     "output_type": "stream",
     "text": [
      "                            OLS Regression Results                            \n",
      "==============================================================================\n",
      "Dep. Variable:                 rating   R-squared:                       0.873\n",
      "Model:                            OLS   Adj. R-squared:                  0.869\n",
      "Method:                 Least Squares   F-statistic:                     263.4\n",
      "Date:                Sat, 25 Jun 2016   Prob (F-statistic):               0.00\n",
      "Time:                        18:08:23   Log-Likelihood:                 523.52\n",
      "No. Observations:                1106   AIC:                            -989.0\n",
      "Df Residuals:                    1077   BIC:                            -843.8\n",
      "Df Model:                          28                                         \n",
      "Covariance Type:            nonrobust                                         \n",
      "==============================================================================\n",
      "                 coef    std err          t      P>|t|      [95.0% Conf. Int.]\n",
      "------------------------------------------------------------------------------\n",
      "const          6.0044      0.039    155.680      0.000         5.929     6.080\n",
      "age           -0.0078      0.006     -1.374      0.170        -0.019     0.003\n",
      "tall           0.0097      0.008      1.198      0.231        -0.006     0.026\n",
      "weight        -0.0151      0.008     -1.796      0.073        -0.032     0.001\n",
      "apps_start     0.1090      0.059      1.850      0.065        -0.007     0.225\n",
      "apps_sub       0.0236      0.007      3.374      0.001         0.010     0.037\n",
      "mins          -0.1557      0.062     -2.528      0.012        -0.277    -0.035\n",
      "goals          0.1323      0.012     11.490      0.000         0.110     0.155\n",
      "assists        0.0579      0.008      7.017      0.000         0.042     0.074\n",
      "yel           -0.0201      0.007     -2.907      0.004        -0.034    -0.007\n",
      "red           -0.0071      0.005     -1.457      0.145        -0.017     0.002\n",
      "spg            0.1004      0.009     11.262      0.000         0.083     0.118\n",
      "ps_x          -0.0010      0.003     -0.396      0.693        -0.006     0.004\n",
      "motm           0.0259      0.009      2.941      0.003         0.009     0.043\n",
      "aw             0.0505      0.006      8.008      0.000         0.038     0.063\n",
      "tackles        0.0719      0.006     12.066      0.000         0.060     0.084\n",
      "inter          0.0664      0.007     10.086      0.000         0.053     0.079\n",
      "fouls         -0.0110      0.006     -1.722      0.085        -0.023     0.002\n",
      "offsides      -0.0304      0.005     -5.597      0.000        -0.041    -0.020\n",
      "clear          0.0225      0.007      3.268      0.001         0.009     0.036\n",
      "drb           -0.0180      0.005     -3.311      0.001        -0.029    -0.007\n",
      "blocks         0.0156      0.005      2.834      0.005         0.005     0.026\n",
      "owng          -0.0055      0.005     -1.158      0.247        -0.015     0.004\n",
      "keyp_x         0.1028      0.007     14.210      0.000         0.089     0.117\n",
      "fouled         0.0328      0.007      5.038      0.000         0.020     0.046\n",
      "off           -0.0012      0.006     -0.188      0.851        -0.014     0.012\n",
      "disp           0.0177      0.007      2.473      0.014         0.004     0.032\n",
      "unstch        -0.0225      0.007     -3.013      0.003        -0.037    -0.008\n",
      "avgp           0.0519      0.008      6.247      0.000         0.036     0.068\n",
      "ps_y          -0.0010      0.003     -0.396      0.693        -0.006     0.004\n",
      "==============================================================================\n",
      "Omnibus:                      170.992   Durbin-Watson:                   1.637\n",
      "Prob(Omnibus):                  0.000   Jarque-Bera (JB):             1078.795\n",
      "Skew:                          -0.537   Prob(JB):                    5.53e-235\n",
      "Kurtosis:                       7.717   Cond. No.                     2.25e+15\n",
      "==============================================================================\n",
      "\n",
      "Warnings:\n",
      "[1] Standard Errors assume that the covariance matrix of the errors is correctly specified.\n",
      "[2] The smallest eigenvalue is 2.6e-26. This might indicate that there are\n",
      "strong multicollinearity problems or that the design matrix is singular.\n"
     ]
    }
   ],
   "source": [
    "model = sm.OLS(df.ix[:, -1], df.ix[:, :-1])\n",
    "result = model.fit()\n",
    "print(result.summary())"
   ]
  },
  {
   "cell_type": "markdown",
   "metadata": {},
   "source": [
    "### Remove Some Feature"
   ]
  },
  {
   "cell_type": "code",
   "execution_count": 8,
   "metadata": {
    "collapsed": false
   },
   "outputs": [],
   "source": [
    "# remove feature\n",
    "remove_column_list = [\"age\", \"tall\", \"weight\", \"apps_start\", \"red\", \"ps_x\", \"fouls\", \"offsides\", \"owng\", \"off\", \"disp\",\"ps_y\"]\n",
    "reature_removed_df = df.drop(remove_column_list, axis=1) "
   ]
  },
  {
   "cell_type": "code",
   "execution_count": 9,
   "metadata": {
    "collapsed": false
   },
   "outputs": [
    {
     "name": "stdout",
     "output_type": "stream",
     "text": [
      "                            OLS Regression Results                            \n",
      "==============================================================================\n",
      "Dep. Variable:                 rating   R-squared:                       0.866\n",
      "Model:                            OLS   Adj. R-squared:                  0.864\n",
      "Method:                 Least Squares   F-statistic:                     414.6\n",
      "Date:                Sat, 25 Jun 2016   Prob (F-statistic):               0.00\n",
      "Time:                        18:08:27   Log-Likelihood:                 496.89\n",
      "No. Observations:                1106   AIC:                            -957.8\n",
      "Df Residuals:                    1088   BIC:                            -867.6\n",
      "Df Model:                          17                                         \n",
      "Covariance Type:            nonrobust                                         \n",
      "==============================================================================\n",
      "                 coef    std err          t      P>|t|      [95.0% Conf. Int.]\n",
      "------------------------------------------------------------------------------\n",
      "const          5.9570      0.012    501.135      0.000         5.934     5.980\n",
      "apps_sub       0.0133      0.005      2.560      0.011         0.003     0.023\n",
      "mins          -0.0400      0.012     -3.424      0.001        -0.063    -0.017\n",
      "goals          0.1295      0.011     11.439      0.000         0.107     0.152\n",
      "assists        0.0585      0.008      7.034      0.000         0.042     0.075\n",
      "yel           -0.0240      0.007     -3.624      0.000        -0.037    -0.011\n",
      "spg            0.0977      0.009     11.020      0.000         0.080     0.115\n",
      "motm           0.0280      0.009      3.200      0.001         0.011     0.045\n",
      "aw             0.0430      0.006      7.393      0.000         0.032     0.054\n",
      "tackles        0.0737      0.006     12.341      0.000         0.062     0.085\n",
      "inter          0.0627      0.007      9.602      0.000         0.050     0.076\n",
      "clear          0.0084      0.007      1.278      0.201        -0.004     0.021\n",
      "drb           -0.0166      0.005     -3.023      0.003        -0.027    -0.006\n",
      "blocks         0.0153      0.006      2.752      0.006         0.004     0.026\n",
      "keyp_x         0.1054      0.007     14.447      0.000         0.091     0.120\n",
      "fouled         0.0327      0.006      5.068      0.000         0.020     0.045\n",
      "unstch        -0.0163      0.007     -2.328      0.020        -0.030    -0.003\n",
      "avgp           0.0478      0.008      6.034      0.000         0.032     0.063\n",
      "==============================================================================\n",
      "Omnibus:                      167.563   Durbin-Watson:                   1.627\n",
      "Prob(Omnibus):                  0.000   Jarque-Bera (JB):              958.648\n",
      "Skew:                          -0.555   Prob(JB):                    6.80e-209\n",
      "Kurtosis:                       7.424   Cond. No.                         14.8\n",
      "==============================================================================\n",
      "\n",
      "Warnings:\n",
      "[1] Standard Errors assume that the covariance matrix of the errors is correctly specified.\n"
     ]
    }
   ],
   "source": [
    "model = sm.OLS(reature_removed_df.ix[:, -1], reature_removed_df.ix[:, :-1])\n",
    "result = model.fit()\n",
    "print(result.summary())"
   ]
  },
  {
   "cell_type": "code",
   "execution_count": null,
   "metadata": {
    "collapsed": false
   },
   "outputs": [],
   "source": [
    "sns.pairplot(reature_removed_df)\n",
    "plt.show()"
   ]
  },
  {
   "cell_type": "code",
   "execution_count": null,
   "metadata": {
    "collapsed": true
   },
   "outputs": [],
   "source": []
  }
 ],
 "metadata": {
  "kernelspec": {
   "display_name": "Python 3",
   "language": "python",
   "name": "python3"
  },
  "language_info": {
   "codemirror_mode": {
    "name": "ipython",
    "version": 3
   },
   "file_extension": ".py",
   "mimetype": "text/x-python",
   "name": "python",
   "nbconvert_exporter": "python",
   "pygments_lexer": "ipython3",
   "version": "3.5.1"
  }
 },
 "nbformat": 4,
 "nbformat_minor": 0
}
