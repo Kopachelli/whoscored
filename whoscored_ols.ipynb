{
 "cells": [
  {
   "cell_type": "code",
   "execution_count": 1,
   "metadata": {
    "collapsed": true
   },
   "outputs": [],
   "source": [
    "%matplotlib inline\n",
    "%config InlineBackend.figure_formats = {'svg', 'retina'}\n",
    "\n",
    "import pandas as pd\n",
    "import numpy as np\n",
    "import statsmodels.api as sm\n",
    "import seaborn as sns\n",
    "import MySQLdb\n",
    "\n",
    "from sklearn.preprocessing import StandardScaler\n",
    "from sklearn.linear_model import LinearRegression\n",
    "from sklearn.cross_validation import cross_val_score"
   ]
  },
  {
   "cell_type": "code",
   "execution_count": 2,
   "metadata": {
    "collapsed": true
   },
   "outputs": [],
   "source": [
    "db = MySQLdb.connect(\n",
    "    \"db.fastcamp.us\",\n",
    "    \"root\",\n",
    "    \"dkstncks\",\n",
    "    \"doojin\",\n",
    "    charset='utf8',\n",
    ")"
   ]
  },
  {
   "cell_type": "code",
   "execution_count": 3,
   "metadata": {
    "collapsed": true
   },
   "outputs": [],
   "source": [
    "def make_query(position):\n",
    "    \"\"\"\n",
    "    \n",
    "    parameter------------\n",
    "    position : M, D, F, G\n",
    "    \n",
    "    return---------------\n",
    "    SQL_QUERY String\n",
    "    \n",
    "    \"\"\"\n",
    "    SQL_QUERY = \"\"\"\n",
    "        SELECT \n",
    "            age, tall, weight, apps_start, apps_sub, mins, goals, assists, yel, red\n",
    "            , spg, ps_x, motm, aw, tackles, inter, fouls, offsides, clear, drb, blocks\n",
    "            , owng, keyp, fouled, off, disp, unstch, avgp, ps_y, crosses, longb, thrb, rating\n",
    "        FROM player\n",
    "        WHERE position like \"%{position}%\"\n",
    "        ;\n",
    "    \"\"\".format(position=position)\n",
    "    \n",
    "    return SQL_QUERY"
   ]
  },
  {
   "cell_type": "code",
   "execution_count": 4,
   "metadata": {
    "collapsed": false
   },
   "outputs": [
    {
     "data": {
      "text/plain": [
       "(771, 1969, 1480, 289)"
      ]
     },
     "execution_count": 4,
     "metadata": {},
     "output_type": "execute_result"
    }
   ],
   "source": [
    "# make each position player datas\n",
    "\n",
    "# forword\n",
    "SQL_QUERY = make_query(\"F\")\n",
    "forword_df = pd.read_sql(SQL_QUERY, db)\n",
    "\n",
    "# midfilder\n",
    "SQL_QUERY = make_query(\"M\")\n",
    "midfilder_df = pd.read_sql(SQL_QUERY, db)\n",
    "\n",
    "# defencer\n",
    "SQL_QUERY = make_query(\"D\")\n",
    "defencer_df = pd.read_sql(SQL_QUERY, db)\n",
    "\n",
    "# goalkeeper\n",
    "SQL_QUERY = make_query(\"G\")\n",
    "goalkeeper_df = pd.read_sql(SQL_QUERY, db)\n",
    "\n",
    "# the number of each postion player\n",
    "len(forword_df), len(midfilder_df), len(defencer_df), len(goalkeeper_df)"
   ]
  },
  {
   "cell_type": "markdown",
   "metadata": {},
   "source": [
    "# Forword OLS"
   ]
  },
  {
   "cell_type": "code",
   "execution_count": 5,
   "metadata": {
    "collapsed": true
   },
   "outputs": [],
   "source": [
    "X = forword_df.ix[:,:-1]\n",
    "scaler = StandardScaler(with_mean=False)\n",
    "X_scaled = scaler.fit_transform(X)"
   ]
  },
  {
   "cell_type": "code",
   "execution_count": 6,
   "metadata": {
    "collapsed": false
   },
   "outputs": [
    {
     "data": {
      "text/html": [
       "<div>\n",
       "<table border=\"1\" class=\"dataframe\">\n",
       "  <thead>\n",
       "    <tr style=\"text-align: right;\">\n",
       "      <th></th>\n",
       "      <th>const</th>\n",
       "      <th>age</th>\n",
       "      <th>tall</th>\n",
       "      <th>weight</th>\n",
       "      <th>apps_start</th>\n",
       "      <th>apps_sub</th>\n",
       "      <th>mins</th>\n",
       "      <th>goals</th>\n",
       "      <th>assists</th>\n",
       "      <th>yel</th>\n",
       "      <th>...</th>\n",
       "      <th>fouled</th>\n",
       "      <th>off</th>\n",
       "      <th>disp</th>\n",
       "      <th>unstch</th>\n",
       "      <th>avgp</th>\n",
       "      <th>ps_y</th>\n",
       "      <th>crosses</th>\n",
       "      <th>longb</th>\n",
       "      <th>thrb</th>\n",
       "      <th>rating</th>\n",
       "    </tr>\n",
       "  </thead>\n",
       "  <tbody>\n",
       "    <tr>\n",
       "      <th>766</th>\n",
       "      <td>1</td>\n",
       "      <td>5.840941</td>\n",
       "      <td>6.309013</td>\n",
       "      <td>4.770183</td>\n",
       "      <td>2.312842</td>\n",
       "      <td>0.428566</td>\n",
       "      <td>2.307712</td>\n",
       "      <td>1.393909</td>\n",
       "      <td>1.25424</td>\n",
       "      <td>4.082652</td>\n",
       "      <td>...</td>\n",
       "      <td>2.540956</td>\n",
       "      <td>2.966975</td>\n",
       "      <td>2.532471</td>\n",
       "      <td>3.954835</td>\n",
       "      <td>0.749656</td>\n",
       "      <td>1.550245</td>\n",
       "      <td>4.477563</td>\n",
       "      <td>0.000000</td>\n",
       "      <td>1.085886</td>\n",
       "      <td>6.67</td>\n",
       "    </tr>\n",
       "    <tr>\n",
       "      <th>767</th>\n",
       "      <td>1</td>\n",
       "      <td>7.943679</td>\n",
       "      <td>6.379901</td>\n",
       "      <td>5.300203</td>\n",
       "      <td>0.925137</td>\n",
       "      <td>1.714265</td>\n",
       "      <td>1.203461</td>\n",
       "      <td>0.348477</td>\n",
       "      <td>0.41808</td>\n",
       "      <td>0.000000</td>\n",
       "      <td>...</td>\n",
       "      <td>1.976299</td>\n",
       "      <td>1.078900</td>\n",
       "      <td>2.251086</td>\n",
       "      <td>2.679082</td>\n",
       "      <td>1.311897</td>\n",
       "      <td>1.898056</td>\n",
       "      <td>5.741898</td>\n",
       "      <td>0.281293</td>\n",
       "      <td>0.542943</td>\n",
       "      <td>6.54</td>\n",
       "    </tr>\n",
       "    <tr>\n",
       "      <th>768</th>\n",
       "      <td>1</td>\n",
       "      <td>7.242767</td>\n",
       "      <td>6.450789</td>\n",
       "      <td>4.968941</td>\n",
       "      <td>0.277541</td>\n",
       "      <td>1.285699</td>\n",
       "      <td>0.347235</td>\n",
       "      <td>0.174239</td>\n",
       "      <td>0.00000</td>\n",
       "      <td>0.000000</td>\n",
       "      <td>...</td>\n",
       "      <td>1.129314</td>\n",
       "      <td>3.236699</td>\n",
       "      <td>0.140693</td>\n",
       "      <td>0.765452</td>\n",
       "      <td>0.749656</td>\n",
       "      <td>0.695623</td>\n",
       "      <td>4.875724</td>\n",
       "      <td>0.000000</td>\n",
       "      <td>0.180981</td>\n",
       "      <td>6.23</td>\n",
       "    </tr>\n",
       "    <tr>\n",
       "      <th>769</th>\n",
       "      <td>1</td>\n",
       "      <td>3.971840</td>\n",
       "      <td>0.000000</td>\n",
       "      <td>0.000000</td>\n",
       "      <td>0.000000</td>\n",
       "      <td>0.214283</td>\n",
       "      <td>0.007549</td>\n",
       "      <td>0.000000</td>\n",
       "      <td>0.00000</td>\n",
       "      <td>0.000000</td>\n",
       "      <td>...</td>\n",
       "      <td>0.000000</td>\n",
       "      <td>0.000000</td>\n",
       "      <td>0.000000</td>\n",
       "      <td>1.275753</td>\n",
       "      <td>1.874139</td>\n",
       "      <td>0.596248</td>\n",
       "      <td>5.818736</td>\n",
       "      <td>2.812931</td>\n",
       "      <td>0.000000</td>\n",
       "      <td>6.16</td>\n",
       "    </tr>\n",
       "    <tr>\n",
       "      <th>770</th>\n",
       "      <td>1</td>\n",
       "      <td>6.541854</td>\n",
       "      <td>6.521676</td>\n",
       "      <td>4.438920</td>\n",
       "      <td>0.185027</td>\n",
       "      <td>0.857132</td>\n",
       "      <td>0.222144</td>\n",
       "      <td>0.000000</td>\n",
       "      <td>0.00000</td>\n",
       "      <td>0.000000</td>\n",
       "      <td>...</td>\n",
       "      <td>0.423493</td>\n",
       "      <td>0.539450</td>\n",
       "      <td>0.281386</td>\n",
       "      <td>0.255151</td>\n",
       "      <td>0.374828</td>\n",
       "      <td>0.874497</td>\n",
       "      <td>4.743003</td>\n",
       "      <td>0.000000</td>\n",
       "      <td>0.361962</td>\n",
       "      <td>6.09</td>\n",
       "    </tr>\n",
       "  </tbody>\n",
       "</table>\n",
       "<p>5 rows × 34 columns</p>\n",
       "</div>"
      ],
      "text/plain": [
       "     const       age      tall    weight  apps_start  apps_sub      mins  \\\n",
       "766      1  5.840941  6.309013  4.770183    2.312842  0.428566  2.307712   \n",
       "767      1  7.943679  6.379901  5.300203    0.925137  1.714265  1.203461   \n",
       "768      1  7.242767  6.450789  4.968941    0.277541  1.285699  0.347235   \n",
       "769      1  3.971840  0.000000  0.000000    0.000000  0.214283  0.007549   \n",
       "770      1  6.541854  6.521676  4.438920    0.185027  0.857132  0.222144   \n",
       "\n",
       "        goals  assists       yel   ...      fouled       off      disp  \\\n",
       "766  1.393909  1.25424  4.082652   ...    2.540956  2.966975  2.532471   \n",
       "767  0.348477  0.41808  0.000000   ...    1.976299  1.078900  2.251086   \n",
       "768  0.174239  0.00000  0.000000   ...    1.129314  3.236699  0.140693   \n",
       "769  0.000000  0.00000  0.000000   ...    0.000000  0.000000  0.000000   \n",
       "770  0.000000  0.00000  0.000000   ...    0.423493  0.539450  0.281386   \n",
       "\n",
       "       unstch      avgp      ps_y   crosses     longb      thrb  rating  \n",
       "766  3.954835  0.749656  1.550245  4.477563  0.000000  1.085886    6.67  \n",
       "767  2.679082  1.311897  1.898056  5.741898  0.281293  0.542943    6.54  \n",
       "768  0.765452  0.749656  0.695623  4.875724  0.000000  0.180981    6.23  \n",
       "769  1.275753  1.874139  0.596248  5.818736  2.812931  0.000000    6.16  \n",
       "770  0.255151  0.374828  0.874497  4.743003  0.000000  0.361962    6.09  \n",
       "\n",
       "[5 rows x 34 columns]"
      ]
     },
     "execution_count": 6,
     "metadata": {},
     "output_type": "execute_result"
    }
   ],
   "source": [
    "dfX0 = pd.DataFrame(X_scaled, columns=X.columns)\n",
    "dfX = sm.add_constant(dfX0)\n",
    "dfy = pd.DataFrame(forword_df.ix[:,-1], columns=[\"rating\"])\n",
    "df = pd.concat([dfX, dfy], axis=1)\n",
    "df.tail()"
   ]
  },
  {
   "cell_type": "code",
   "execution_count": 7,
   "metadata": {
    "collapsed": false
   },
   "outputs": [
    {
     "name": "stdout",
     "output_type": "stream",
     "text": [
      "                            OLS Regression Results                            \n",
      "==============================================================================\n",
      "Dep. Variable:                 rating   R-squared:                       0.922\n",
      "Model:                            OLS   Adj. R-squared:                  0.919\n",
      "Method:                 Least Squares   F-statistic:                     290.5\n",
      "Date:                Sat, 25 Jun 2016   Prob (F-statistic):               0.00\n",
      "Time:                        17:32:30   Log-Likelihood:                 530.96\n",
      "No. Observations:                 771   AIC:                            -999.9\n",
      "Df Residuals:                     740   BIC:                            -855.9\n",
      "Df Model:                          30                                         \n",
      "Covariance Type:            nonrobust                                         \n",
      "==============================================================================\n",
      "                 coef    std err          t      P>|t|      [95.0% Conf. Int.]\n",
      "------------------------------------------------------------------------------\n",
      "const          5.9652      0.044    134.123      0.000         5.878     6.053\n",
      "age           -0.0059      0.005     -1.132      0.258        -0.016     0.004\n",
      "tall           0.0029      0.008      0.364      0.716        -0.013     0.018\n",
      "weight        -0.0069      0.008     -0.837      0.403        -0.023     0.009\n",
      "apps_start     0.1390      0.053      2.636      0.009         0.036     0.243\n",
      "apps_sub       0.0253      0.007      3.845      0.000         0.012     0.038\n",
      "mins          -0.2238      0.055     -4.087      0.000        -0.331    -0.116\n",
      "goals          0.1797      0.012     15.120      0.000         0.156     0.203\n",
      "assists        0.0663      0.008      8.397      0.000         0.051     0.082\n",
      "yel           -0.0262      0.007     -3.963      0.000        -0.039    -0.013\n",
      "red           -0.0047      0.005     -0.984      0.325        -0.014     0.005\n",
      "spg            0.0879      0.009     10.114      0.000         0.071     0.105\n",
      "ps_x        6.509e-05      0.003      0.025      0.980        -0.005     0.005\n",
      "motm           0.0199      0.009      2.300      0.022         0.003     0.037\n",
      "aw             0.0522      0.007      7.466      0.000         0.038     0.066\n",
      "tackles        0.0747      0.007     11.359      0.000         0.062     0.088\n",
      "inter          0.0385      0.006      6.261      0.000         0.026     0.051\n",
      "fouls         -0.0015      0.007     -0.229      0.819        -0.014     0.011\n",
      "offsides       0.0009      0.005      0.205      0.838        -0.008     0.010\n",
      "clear          0.0201      0.006      3.263      0.001         0.008     0.032\n",
      "drb           -0.0282      0.006     -4.742      0.000        -0.040    -0.017\n",
      "blocks         0.0126      0.005      2.419      0.016         0.002     0.023\n",
      "owng          -0.0053      0.005     -1.114      0.266        -0.015     0.004\n",
      "keyp           0.0354      0.004      8.114      0.000         0.027     0.044\n",
      "fouled         0.0313      0.006      4.836      0.000         0.019     0.044\n",
      "off           -0.0037      0.006     -0.630      0.529        -0.015     0.008\n",
      "disp           0.0083      0.007      1.152      0.250        -0.006     0.022\n",
      "unstch        -0.0103      0.007     -1.397      0.163        -0.025     0.004\n",
      "avgp           0.0354      0.004      8.114      0.000         0.027     0.044\n",
      "ps_y           0.0934      0.012      7.823      0.000         0.070     0.117\n",
      "crosses     6.509e-05      0.003      0.025      0.980        -0.005     0.005\n",
      "longb          0.0396      0.007      5.734      0.000         0.026     0.053\n",
      "thrb          -0.0321      0.008     -3.961      0.000        -0.048    -0.016\n",
      "==============================================================================\n",
      "Omnibus:                       50.013   Durbin-Watson:                   1.791\n",
      "Prob(Omnibus):                  0.000   Jarque-Bera (JB):              181.977\n",
      "Skew:                           0.159   Prob(JB):                     3.05e-40\n",
      "Kurtosis:                       5.359   Cond. No.                     9.13e+15\n",
      "==============================================================================\n",
      "\n",
      "Warnings:\n",
      "[1] Standard Errors assume that the covariance matrix of the errors is correctly specified.\n",
      "[2] The smallest eigenvalue is 1.71e-27. This might indicate that there are\n",
      "strong multicollinearity problems or that the design matrix is singular.\n"
     ]
    }
   ],
   "source": [
    "model = sm.OLS(df.ix[:, -1], df.ix[:, :-1])\n",
    "result = model.fit()\n",
    "print(result.summary())"
   ]
  },
  {
   "cell_type": "markdown",
   "metadata": {},
   "source": [
    "# Remove Some Feature"
   ]
  },
  {
   "cell_type": "code",
   "execution_count": 12,
   "metadata": {
    "collapsed": false
   },
   "outputs": [],
   "source": [
    "# remove feature\n",
    "remove_column_list = [\"age\", \"tall\", \"weight\", \"red\", \"ps_x\", \"fouls\", \"offsides\", \"owng\", \"off\", \"disp\", \"unstch\", \"crosses\"]\n",
    "reature_removed_df = df.drop(remove_column_list, axis=1) "
   ]
  },
  {
   "cell_type": "code",
   "execution_count": 13,
   "metadata": {
    "collapsed": false
   },
   "outputs": [
    {
     "name": "stdout",
     "output_type": "stream",
     "text": [
      "                            OLS Regression Results                            \n",
      "==============================================================================\n",
      "Dep. Variable:                 rating   R-squared:                       0.921\n",
      "Model:                            OLS   Adj. R-squared:                  0.919\n",
      "Method:                 Least Squares   F-statistic:                     460.3\n",
      "Date:                Sat, 25 Jun 2016   Prob (F-statistic):               0.00\n",
      "Time:                        17:40:56   Log-Likelihood:                 526.92\n",
      "No. Observations:                 771   AIC:                            -1014.\n",
      "Df Residuals:                     751   BIC:                            -920.9\n",
      "Df Model:                          19                                         \n",
      "Covariance Type:            nonrobust                                         \n",
      "==============================================================================\n",
      "                 coef    std err          t      P>|t|      [95.0% Conf. Int.]\n",
      "------------------------------------------------------------------------------\n",
      "const          5.9194      0.013    445.938      0.000         5.893     5.945\n",
      "apps_start     0.1306      0.052      2.506      0.012         0.028     0.233\n",
      "apps_sub       0.0237      0.006      3.726      0.000         0.011     0.036\n",
      "mins          -0.2185      0.054     -4.038      0.000        -0.325    -0.112\n",
      "goals          0.1786      0.012     15.396      0.000         0.156     0.201\n",
      "assists        0.0676      0.008      8.765      0.000         0.052     0.083\n",
      "yel           -0.0271      0.006     -4.409      0.000        -0.039    -0.015\n",
      "spg            0.0845      0.008     10.540      0.000         0.069     0.100\n",
      "motm           0.0226      0.008      2.673      0.008         0.006     0.039\n",
      "aw             0.0469      0.006      7.417      0.000         0.035     0.059\n",
      "tackles        0.0750      0.006     11.754      0.000         0.062     0.088\n",
      "inter          0.0400      0.006      6.747      0.000         0.028     0.052\n",
      "clear          0.0183      0.006      3.028      0.003         0.006     0.030\n",
      "drb           -0.0271      0.006     -4.613      0.000        -0.039    -0.016\n",
      "blocks         0.0120      0.005      2.326      0.020         0.002     0.022\n",
      "keyp           0.0346      0.004      8.078      0.000         0.026     0.043\n",
      "fouled         0.0290      0.006      4.758      0.000         0.017     0.041\n",
      "avgp           0.0346      0.004      8.078      0.000         0.026     0.043\n",
      "ps_y           0.0936      0.011      8.183      0.000         0.071     0.116\n",
      "longb          0.0402      0.007      5.954      0.000         0.027     0.053\n",
      "thrb          -0.0318      0.008     -4.028      0.000        -0.047    -0.016\n",
      "==============================================================================\n",
      "Omnibus:                       50.075   Durbin-Watson:                   1.801\n",
      "Prob(Omnibus):                  0.000   Jarque-Bera (JB):              179.057\n",
      "Skew:                           0.171   Prob(JB):                     1.31e-39\n",
      "Kurtosis:                       5.336   Cond. No.                     1.46e+16\n",
      "==============================================================================\n",
      "\n",
      "Warnings:\n",
      "[1] Standard Errors assume that the covariance matrix of the errors is correctly specified.\n",
      "[2] The smallest eigenvalue is 1.1e-28. This might indicate that there are\n",
      "strong multicollinearity problems or that the design matrix is singular.\n"
     ]
    }
   ],
   "source": [
    "model = sm.OLS(reature_removed_df.ix[:, -1], reature_removed_df.ix[:, :-1])\n",
    "result = model.fit()\n",
    "print(result.summary())"
   ]
  },
  {
   "cell_type": "code",
   "execution_count": null,
   "metadata": {
    "collapsed": true
   },
   "outputs": [],
   "source": []
  }
 ],
 "metadata": {
  "kernelspec": {
   "display_name": "Python 3",
   "language": "python",
   "name": "python3"
  },
  "language_info": {
   "codemirror_mode": {
    "name": "ipython",
    "version": 3
   },
   "file_extension": ".py",
   "mimetype": "text/x-python",
   "name": "python",
   "nbconvert_exporter": "python",
   "pygments_lexer": "ipython3",
   "version": "3.5.1"
  }
 },
 "nbformat": 4,
 "nbformat_minor": 0
}
