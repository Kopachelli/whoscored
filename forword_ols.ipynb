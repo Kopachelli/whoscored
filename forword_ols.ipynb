{
 "cells": [
  {
   "cell_type": "markdown",
   "metadata": {},
   "source": [
    "# Forword OLS\n",
    "- Import Package\n",
    "- Connect DB & get Forword Player Data\n",
    "- Scaling\n",
    "- Summary OLS \n",
    "- Remove Feature"
   ]
  },
  {
   "cell_type": "markdown",
   "metadata": {},
   "source": [
    "### Import Package"
   ]
  },
  {
   "cell_type": "code",
   "execution_count": 1,
   "metadata": {
    "collapsed": true
   },
   "outputs": [],
   "source": [
    "%matplotlib inline\n",
    "%config InlineBackend.figure_formats = {'png', 'retina'}\n",
    "\n",
    "import pandas as pd\n",
    "import numpy as np\n",
    "import statsmodels.api as sm\n",
    "import seaborn as sns\n",
    "import MySQLdb\n",
    "\n",
    "from sklearn.preprocessing import StandardScaler\n",
    "from sklearn.linear_model import LinearRegression\n",
    "from sklearn.cross_validation import cross_val_score"
   ]
  },
  {
   "cell_type": "markdown",
   "metadata": {},
   "source": [
    "### Connect DB & get Forword Player Data"
   ]
  },
  {
   "cell_type": "code",
   "execution_count": 2,
   "metadata": {
    "collapsed": false
   },
   "outputs": [
    {
     "data": {
      "text/plain": [
       "1106"
      ]
     },
     "execution_count": 2,
     "metadata": {},
     "output_type": "execute_result"
    }
   ],
   "source": [
    "db = MySQLdb.connect(\n",
    "    \"db.fastcamp.us\",\n",
    "    \"root\",\n",
    "    \"dkstncks\",\n",
    "    \"football\",\n",
    "    charset='utf8',\n",
    ")\n",
    "\n",
    "def make_query(position):\n",
    "    \"\"\"\n",
    "    \n",
    "    parameter------------\n",
    "    position : M, D, F, G\n",
    "    \n",
    "    return---------------\n",
    "    SQL_QUERY String\n",
    "    \n",
    "    \"\"\"\n",
    "    SQL_QUERY = \"\"\"\n",
    "        SELECT \n",
    "            age, tall, weight, apps_start, apps_sub, mins, goals, assists, yel, red\n",
    "            , spg, ps_x, motm, aw, tackles, inter, fouls, offsides, clear, drb, blocks\n",
    "            , owng, keyp_x, fouled, off, disp, unstch, avgp, ps_y, rating\n",
    "        FROM player\n",
    "        WHERE position like \"%{position}%\"\n",
    "        ;\n",
    "    \"\"\".format(position=position)\n",
    "    \n",
    "    return SQL_QUERY\n",
    "\n",
    "# forword\n",
    "SQL_QUERY = make_query(\"F\")\n",
    "forword_df = pd.read_sql(SQL_QUERY, db)\n",
    "\n",
    "len(forword_df)"
   ]
  },
  {
   "cell_type": "markdown",
   "metadata": {},
   "source": [
    "##### Scaling"
   ]
  },
  {
   "cell_type": "code",
   "execution_count": 3,
   "metadata": {
    "collapsed": false
   },
   "outputs": [
    {
     "data": {
      "text/html": [
       "<div>\n",
       "<table border=\"1\" class=\"dataframe\">\n",
       "  <thead>\n",
       "    <tr style=\"text-align: right;\">\n",
       "      <th></th>\n",
       "      <th>const</th>\n",
       "      <th>age</th>\n",
       "      <th>tall</th>\n",
       "      <th>weight</th>\n",
       "      <th>apps_start</th>\n",
       "      <th>apps_sub</th>\n",
       "      <th>mins</th>\n",
       "      <th>goals</th>\n",
       "      <th>assists</th>\n",
       "      <th>yel</th>\n",
       "      <th>...</th>\n",
       "      <th>blocks</th>\n",
       "      <th>owng</th>\n",
       "      <th>keyp_x</th>\n",
       "      <th>fouled</th>\n",
       "      <th>off</th>\n",
       "      <th>disp</th>\n",
       "      <th>unstch</th>\n",
       "      <th>avgp</th>\n",
       "      <th>ps_y</th>\n",
       "      <th>rating</th>\n",
       "    </tr>\n",
       "  </thead>\n",
       "  <tbody>\n",
       "    <tr>\n",
       "      <th>0</th>\n",
       "      <td>1</td>\n",
       "      <td>7.753974</td>\n",
       "      <td>4.572042</td>\n",
       "      <td>3.70725</td>\n",
       "      <td>2.920678</td>\n",
       "      <td>0.893045</td>\n",
       "      <td>3.124043</td>\n",
       "      <td>3.872875</td>\n",
       "      <td>2.810126</td>\n",
       "      <td>4.502750</td>\n",
       "      <td>...</td>\n",
       "      <td>0.465000</td>\n",
       "      <td>0.0</td>\n",
       "      <td>1.841614</td>\n",
       "      <td>2.744057</td>\n",
       "      <td>3.057305</td>\n",
       "      <td>3.281157</td>\n",
       "      <td>2.735755</td>\n",
       "      <td>1.926532</td>\n",
       "      <td>3.573768</td>\n",
       "      <td>7.37</td>\n",
       "    </tr>\n",
       "    <tr>\n",
       "      <th>1</th>\n",
       "      <td>1</td>\n",
       "      <td>6.424721</td>\n",
       "      <td>4.647822</td>\n",
       "      <td>4.00383</td>\n",
       "      <td>2.628610</td>\n",
       "      <td>0.669784</td>\n",
       "      <td>2.672768</td>\n",
       "      <td>1.355506</td>\n",
       "      <td>2.810126</td>\n",
       "      <td>5.003056</td>\n",
       "      <td>...</td>\n",
       "      <td>0.465000</td>\n",
       "      <td>0.0</td>\n",
       "      <td>1.473291</td>\n",
       "      <td>3.430071</td>\n",
       "      <td>1.111747</td>\n",
       "      <td>1.777293</td>\n",
       "      <td>2.141026</td>\n",
       "      <td>2.825580</td>\n",
       "      <td>3.756585</td>\n",
       "      <td>7.25</td>\n",
       "    </tr>\n",
       "    <tr>\n",
       "      <th>2</th>\n",
       "      <td>1</td>\n",
       "      <td>4.873926</td>\n",
       "      <td>4.395223</td>\n",
       "      <td>3.41067</td>\n",
       "      <td>0.194712</td>\n",
       "      <td>0.223261</td>\n",
       "      <td>0.209320</td>\n",
       "      <td>0.000000</td>\n",
       "      <td>0.000000</td>\n",
       "      <td>0.000000</td>\n",
       "      <td>...</td>\n",
       "      <td>0.000000</td>\n",
       "      <td>0.0</td>\n",
       "      <td>1.289130</td>\n",
       "      <td>0.960420</td>\n",
       "      <td>0.833810</td>\n",
       "      <td>5.468595</td>\n",
       "      <td>0.000000</td>\n",
       "      <td>2.321012</td>\n",
       "      <td>4.652975</td>\n",
       "      <td>6.78</td>\n",
       "    </tr>\n",
       "    <tr>\n",
       "      <th>3</th>\n",
       "      <td>1</td>\n",
       "      <td>6.424721</td>\n",
       "      <td>4.647822</td>\n",
       "      <td>3.95440</td>\n",
       "      <td>0.292068</td>\n",
       "      <td>1.339568</td>\n",
       "      <td>0.325234</td>\n",
       "      <td>0.000000</td>\n",
       "      <td>0.000000</td>\n",
       "      <td>0.000000</td>\n",
       "      <td>...</td>\n",
       "      <td>0.929999</td>\n",
       "      <td>0.0</td>\n",
       "      <td>0.368323</td>\n",
       "      <td>0.411609</td>\n",
       "      <td>0.000000</td>\n",
       "      <td>1.230434</td>\n",
       "      <td>0.713675</td>\n",
       "      <td>0.917396</td>\n",
       "      <td>4.322726</td>\n",
       "      <td>6.22</td>\n",
       "    </tr>\n",
       "    <tr>\n",
       "      <th>4</th>\n",
       "      <td>1</td>\n",
       "      <td>6.646263</td>\n",
       "      <td>4.673082</td>\n",
       "      <td>4.05326</td>\n",
       "      <td>0.097356</td>\n",
       "      <td>0.893045</td>\n",
       "      <td>0.085529</td>\n",
       "      <td>0.000000</td>\n",
       "      <td>0.000000</td>\n",
       "      <td>0.000000</td>\n",
       "      <td>...</td>\n",
       "      <td>0.000000</td>\n",
       "      <td>0.0</td>\n",
       "      <td>0.000000</td>\n",
       "      <td>1.646434</td>\n",
       "      <td>0.000000</td>\n",
       "      <td>0.273430</td>\n",
       "      <td>0.237892</td>\n",
       "      <td>0.201827</td>\n",
       "      <td>4.287342</td>\n",
       "      <td>6.09</td>\n",
       "    </tr>\n",
       "  </tbody>\n",
       "</table>\n",
       "<p>5 rows × 31 columns</p>\n",
       "</div>"
      ],
      "text/plain": [
       "   const       age      tall   weight  apps_start  apps_sub      mins  \\\n",
       "0      1  7.753974  4.572042  3.70725    2.920678  0.893045  3.124043   \n",
       "1      1  6.424721  4.647822  4.00383    2.628610  0.669784  2.672768   \n",
       "2      1  4.873926  4.395223  3.41067    0.194712  0.223261  0.209320   \n",
       "3      1  6.424721  4.647822  3.95440    0.292068  1.339568  0.325234   \n",
       "4      1  6.646263  4.673082  4.05326    0.097356  0.893045  0.085529   \n",
       "\n",
       "      goals   assists       yel   ...      blocks  owng    keyp_x    fouled  \\\n",
       "0  3.872875  2.810126  4.502750   ...    0.465000   0.0  1.841614  2.744057   \n",
       "1  1.355506  2.810126  5.003056   ...    0.465000   0.0  1.473291  3.430071   \n",
       "2  0.000000  0.000000  0.000000   ...    0.000000   0.0  1.289130  0.960420   \n",
       "3  0.000000  0.000000  0.000000   ...    0.929999   0.0  0.368323  0.411609   \n",
       "4  0.000000  0.000000  0.000000   ...    0.000000   0.0  0.000000  1.646434   \n",
       "\n",
       "        off      disp    unstch      avgp      ps_y  rating  \n",
       "0  3.057305  3.281157  2.735755  1.926532  3.573768    7.37  \n",
       "1  1.111747  1.777293  2.141026  2.825580  3.756585    7.25  \n",
       "2  0.833810  5.468595  0.000000  2.321012  4.652975    6.78  \n",
       "3  0.000000  1.230434  0.713675  0.917396  4.322726    6.22  \n",
       "4  0.000000  0.273430  0.237892  0.201827  4.287342    6.09  \n",
       "\n",
       "[5 rows x 31 columns]"
      ]
     },
     "execution_count": 3,
     "metadata": {},
     "output_type": "execute_result"
    }
   ],
   "source": [
    "X = forword_df.ix[:,:-1]\n",
    "scaler = StandardScaler(with_mean=False)\n",
    "X_scaled = scaler.fit_transform(X)\n",
    "\n",
    "dfX0 = pd.DataFrame(X_scaled, columns=X.columns)\n",
    "dfX = sm.add_constant(dfX0)\n",
    "dfy = pd.DataFrame(forword_df.ix[:,-1], columns=[\"rating\"])\n",
    "f_df = pd.concat([dfX, dfy], axis=1)\n",
    "f_df.head()"
   ]
  },
  {
   "cell_type": "markdown",
   "metadata": {},
   "source": [
    "##### Summary OLS"
   ]
  },
  {
   "cell_type": "code",
   "execution_count": 4,
   "metadata": {
    "collapsed": false
   },
   "outputs": [
    {
     "name": "stdout",
     "output_type": "stream",
     "text": [
      "                            OLS Regression Results                            \n",
      "==============================================================================\n",
      "Dep. Variable:                 rating   R-squared:                       0.873\n",
      "Model:                            OLS   Adj. R-squared:                  0.869\n",
      "Method:                 Least Squares   F-statistic:                     263.4\n",
      "Date:                Sat, 25 Jun 2016   Prob (F-statistic):               0.00\n",
      "Time:                        19:35:09   Log-Likelihood:                 523.52\n",
      "No. Observations:                1106   AIC:                            -989.0\n",
      "Df Residuals:                    1077   BIC:                            -843.8\n",
      "Df Model:                          28                                         \n",
      "Covariance Type:            nonrobust                                         \n",
      "==============================================================================\n",
      "                 coef    std err          t      P>|t|      [95.0% Conf. Int.]\n",
      "------------------------------------------------------------------------------\n",
      "const          6.0044      0.039    155.680      0.000         5.929     6.080\n",
      "age           -0.0078      0.006     -1.374      0.170        -0.019     0.003\n",
      "tall           0.0097      0.008      1.198      0.231        -0.006     0.026\n",
      "weight        -0.0151      0.008     -1.796      0.073        -0.032     0.001\n",
      "apps_start     0.1090      0.059      1.850      0.065        -0.007     0.225\n",
      "apps_sub       0.0236      0.007      3.374      0.001         0.010     0.037\n",
      "mins          -0.1557      0.062     -2.528      0.012        -0.277    -0.035\n",
      "goals          0.1323      0.012     11.490      0.000         0.110     0.155\n",
      "assists        0.0579      0.008      7.017      0.000         0.042     0.074\n",
      "yel           -0.0201      0.007     -2.907      0.004        -0.034    -0.007\n",
      "red           -0.0071      0.005     -1.457      0.145        -0.017     0.002\n",
      "spg            0.1004      0.009     11.262      0.000         0.083     0.118\n",
      "ps_x          -0.0010      0.003     -0.396      0.693        -0.006     0.004\n",
      "motm           0.0259      0.009      2.941      0.003         0.009     0.043\n",
      "aw             0.0505      0.006      8.008      0.000         0.038     0.063\n",
      "tackles        0.0719      0.006     12.066      0.000         0.060     0.084\n",
      "inter          0.0664      0.007     10.086      0.000         0.053     0.079\n",
      "fouls         -0.0110      0.006     -1.722      0.085        -0.023     0.002\n",
      "offsides      -0.0304      0.005     -5.597      0.000        -0.041    -0.020\n",
      "clear          0.0225      0.007      3.268      0.001         0.009     0.036\n",
      "drb           -0.0180      0.005     -3.311      0.001        -0.029    -0.007\n",
      "blocks         0.0156      0.005      2.834      0.005         0.005     0.026\n",
      "owng          -0.0055      0.005     -1.158      0.247        -0.015     0.004\n",
      "keyp_x         0.1028      0.007     14.210      0.000         0.089     0.117\n",
      "fouled         0.0328      0.007      5.038      0.000         0.020     0.046\n",
      "off           -0.0012      0.006     -0.188      0.851        -0.014     0.012\n",
      "disp           0.0177      0.007      2.473      0.014         0.004     0.032\n",
      "unstch        -0.0225      0.007     -3.013      0.003        -0.037    -0.008\n",
      "avgp           0.0519      0.008      6.247      0.000         0.036     0.068\n",
      "ps_y          -0.0010      0.003     -0.396      0.693        -0.006     0.004\n",
      "==============================================================================\n",
      "Omnibus:                      170.992   Durbin-Watson:                   1.637\n",
      "Prob(Omnibus):                  0.000   Jarque-Bera (JB):             1078.795\n",
      "Skew:                          -0.537   Prob(JB):                    5.53e-235\n",
      "Kurtosis:                       7.717   Cond. No.                     2.25e+15\n",
      "==============================================================================\n",
      "\n",
      "Warnings:\n",
      "[1] Standard Errors assume that the covariance matrix of the errors is correctly specified.\n",
      "[2] The smallest eigenvalue is 2.6e-26. This might indicate that there are\n",
      "strong multicollinearity problems or that the design matrix is singular.\n"
     ]
    }
   ],
   "source": [
    "model = sm.OLS(f_df.ix[:, -1], f_df.ix[:, :-1])\n",
    "result = model.fit()\n",
    "print(result.summary())"
   ]
  },
  {
   "cell_type": "markdown",
   "metadata": {},
   "source": [
    "##### Remove Some Feature"
   ]
  },
  {
   "cell_type": "code",
   "execution_count": 5,
   "metadata": {
    "collapsed": false
   },
   "outputs": [
    {
     "name": "stdout",
     "output_type": "stream",
     "text": [
      "                            OLS Regression Results                            \n",
      "==============================================================================\n",
      "Dep. Variable:                 rating   R-squared:                       0.866\n",
      "Model:                            OLS   Adj. R-squared:                  0.864\n",
      "Method:                 Least Squares   F-statistic:                     440.2\n",
      "Date:                Sat, 25 Jun 2016   Prob (F-statistic):               0.00\n",
      "Time:                        19:35:09   Log-Likelihood:                 496.06\n",
      "No. Observations:                1106   AIC:                            -958.1\n",
      "Df Residuals:                    1089   BIC:                            -873.0\n",
      "Df Model:                          16                                         \n",
      "Covariance Type:            nonrobust                                         \n",
      "==============================================================================\n",
      "                 coef    std err          t      P>|t|      [95.0% Conf. Int.]\n",
      "------------------------------------------------------------------------------\n",
      "const          5.9590      0.012    505.668      0.000         5.936     5.982\n",
      "apps_sub       0.0127      0.005      2.452      0.014         0.003     0.023\n",
      "mins          -0.0398      0.012     -3.406      0.001        -0.063    -0.017\n",
      "goals          0.1301      0.011     11.504      0.000         0.108     0.152\n",
      "assists        0.0587      0.008      7.065      0.000         0.042     0.075\n",
      "yel           -0.0242      0.007     -3.647      0.000        -0.037    -0.011\n",
      "spg            0.0974      0.009     10.990      0.000         0.080     0.115\n",
      "motm           0.0276      0.009      3.154      0.002         0.010     0.045\n",
      "aw             0.0452      0.006      8.108      0.000         0.034     0.056\n",
      "tackles        0.0749      0.006     12.688      0.000         0.063     0.086\n",
      "inter          0.0651      0.006     10.382      0.000         0.053     0.077\n",
      "drb           -0.0168      0.005     -3.052      0.002        -0.028    -0.006\n",
      "blocks         0.0183      0.005      3.606      0.000         0.008     0.028\n",
      "keyp_x         0.1043      0.007     14.398      0.000         0.090     0.118\n",
      "fouled         0.0325      0.006      5.032      0.000         0.020     0.045\n",
      "unstch        -0.0171      0.007     -2.460      0.014        -0.031    -0.003\n",
      "avgp           0.0482      0.008      6.089      0.000         0.033     0.064\n",
      "==============================================================================\n",
      "Omnibus:                      162.732   Durbin-Watson:                   1.623\n",
      "Prob(Omnibus):                  0.000   Jarque-Bera (JB):              953.306\n",
      "Skew:                          -0.524   Prob(JB):                    9.82e-208\n",
      "Kurtosis:                       7.426   Cond. No.                         14.7\n",
      "==============================================================================\n",
      "\n",
      "Warnings:\n",
      "[1] Standard Errors assume that the covariance matrix of the errors is correctly specified.\n"
     ]
    }
   ],
   "source": [
    "# remove features\n",
    "remove_column_list = [\n",
    "    \"age\", \"tall\", \"weight\", \"apps_start\", \"red\", \"ps_x\", \"fouls\", \"offsides\", \"owng\", \"off\", \"disp\", \"clear\", \"ps_y\"\n",
    "]\n",
    "f_df = f_df.drop(remove_column_list, axis=1) \n",
    "\n",
    "model = sm.OLS(f_df.ix[:, -1], f_df.ix[:, :-1])\n",
    "result = model.fit()\n",
    "print(result.summary())"
   ]
  },
  {
   "cell_type": "code",
   "execution_count": 7,
   "metadata": {
    "collapsed": false
   },
   "outputs": [
    {
     "data": {
      "text/plain": [
       "Index(['const', 'apps_sub', 'mins', 'goals', 'assists', 'yel', 'spg', 'motm',\n",
       "       'aw', 'tackles', 'inter', 'drb', 'blocks', 'keyp_x', 'fouled', 'unstch',\n",
       "       'avgp', 'rating'],\n",
       "      dtype='object')"
      ]
     },
     "execution_count": 7,
     "metadata": {},
     "output_type": "execute_result"
    }
   ],
   "source": [
    "f_df.columns"
   ]
  },
  {
   "cell_type": "code",
   "execution_count": null,
   "metadata": {
    "collapsed": true
   },
   "outputs": [],
   "source": []
  }
 ],
 "metadata": {
  "kernelspec": {
   "display_name": "Python 3",
   "language": "python",
   "name": "python3"
  },
  "language_info": {
   "codemirror_mode": {
    "name": "ipython",
    "version": 3
   },
   "file_extension": ".py",
   "mimetype": "text/x-python",
   "name": "python",
   "nbconvert_exporter": "python",
   "pygments_lexer": "ipython3",
   "version": "3.5.1"
  }
 },
 "nbformat": 4,
 "nbformat_minor": 0
}
