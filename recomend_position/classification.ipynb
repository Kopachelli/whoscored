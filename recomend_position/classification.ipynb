{
 "cells": [
  {
   "cell_type": "markdown",
   "metadata": {},
   "source": [
    "# import package"
   ]
  },
  {
   "cell_type": "code",
   "execution_count": 1,
   "metadata": {
    "collapsed": true
   },
   "outputs": [],
   "source": [
    "%matplotlib inline\n",
    "%config InlineBackend.figure_formats = {'png', 'retina'}\n",
    "\n",
    "import numpy as np\n",
    "import seaborn as sns\n",
    "import matplotlib.pyplot as plt\n",
    "import matplotlib as mpl\n",
    "import pandas as pd\n",
    "import MySQLdb\n",
    "\n",
    "from sklearn.tree import export_graphviz\n",
    "from sklearn.datasets import load_iris\n",
    "from sklearn.cross_validation import train_test_split\n",
    "from sklearn.tree import DecisionTreeClassifier\n",
    "from sklearn.metrics import confusion_matrix\n",
    "from sklearn.metrics import classification_report"
   ]
  },
  {
   "cell_type": "markdown",
   "metadata": {},
   "source": [
    "# DB"
   ]
  },
  {
   "cell_type": "code",
   "execution_count": 2,
   "metadata": {
    "collapsed": true
   },
   "outputs": [],
   "source": [
    "db = MySQLdb.connect(\n",
    "    \"db.fastcamp.us\",\n",
    "    \"root\",\n",
    "    \"dkstncks\",\n",
    "    \"football\",\n",
    "    charset='utf8',\n",
    ")\n",
    "\n",
    "# forword feature\n",
    "# apps_sub, mins, goals, assists, yel, spg, motm, aw, tackles, inter, drb, blocks, keyp_x, fouled, unstch, avgp          \n",
    "\n",
    "# defenser feature\n",
    "# goals, assists, spg, ps_x, motm, aw, tackles, inter, fouls, clear, owng, keyp_x, fouled, unstch, avgp          \n",
    "\n",
    "# midfilder feature\n",
    "# age, apps_sub, mins, goals, assists, spg, ps_x, motm, aw, tackles, inter, keyp_x, fouled, avgp\n",
    "\n",
    "def make_query(position):\n",
    "    \"\"\"\n",
    "    \n",
    "    parameter------------\n",
    "    position : M, D, F, G\n",
    "    \n",
    "    return---------------\n",
    "    SQL_QUERY String\n",
    "    \n",
    "    \"\"\"\n",
    "    \n",
    "    SQL_QUERY = \"\"\"\n",
    "        SELECT \n",
    "            tall, weight, apps_sub, mins, goals, assists\n",
    "            , spg, ps_x, motm, aw, tackles, inter, fouls, clear, drb\n",
    "            , owng, keyp_x, fouled, off, disp, unstch, avgp\n",
    "        FROM player\n",
    "    \"\"\"\n",
    "    \n",
    "    if position == \"F\":\n",
    "        SQL_QUERY += \"\"\"\n",
    "            WHERE position not like \"%,%\" and position like \"%FW%\" and mins > 270\n",
    "        \"\"\"\n",
    "    \n",
    "    if position == \"M\":\n",
    "        SQL_QUERY += \"\"\"\n",
    "            WHERE position not like \"%,%\" and position like \"%M%\" and mins > 270\n",
    "        \"\"\"\n",
    "    \n",
    "    if position == \"D\":\n",
    "        SQL_QUERY += \"\"\"\n",
    "            WHERE position not like \"%,%\" and position like \"%D%\" and position not like \" DMC\"  and mins > 270\n",
    "        \"\"\"\n",
    "    \n",
    "    if position == \"G\":\n",
    "        SQL_QUERY += \"\"\"\n",
    "            WHERE position not like \"%,%\" and position like \"%G%\" and mins > 270\n",
    "        \"\"\"\n",
    "    \n",
    "    return SQL_QUERY"
   ]
  },
  {
   "cell_type": "code",
   "execution_count": 3,
   "metadata": {
    "collapsed": false
   },
   "outputs": [
    {
     "data": {
      "text/plain": [
       "(291, 997, 817, 213)"
      ]
     },
     "execution_count": 3,
     "metadata": {},
     "output_type": "execute_result"
    }
   ],
   "source": [
    "# forword\n",
    "SQL_QUERY = make_query(\"F\")\n",
    "forword_df = pd.read_sql(SQL_QUERY, db)\n",
    "\n",
    "# midfilder\n",
    "SQL_QUERY = make_query(\"M\")\n",
    "midfilder_df = pd.read_sql(SQL_QUERY, db)\n",
    "\n",
    "# defencer\n",
    "SQL_QUERY = make_query(\"D\")\n",
    "defencer_df = pd.read_sql(SQL_QUERY, db)\n",
    "\n",
    "# goalkeeper\n",
    "SQL_QUERY = make_query(\"G\")\n",
    "goalkeeper_df = pd.read_sql(SQL_QUERY, db)\n",
    "\n",
    "len(forword_df), len(midfilder_df), len(defencer_df), len(goalkeeper_df)"
   ]
  },
  {
   "cell_type": "code",
   "execution_count": 4,
   "metadata": {
    "collapsed": false
   },
   "outputs": [
    {
     "data": {
      "text/html": [
       "<div>\n",
       "<table border=\"1\" class=\"dataframe\">\n",
       "  <thead>\n",
       "    <tr style=\"text-align: right;\">\n",
       "      <th></th>\n",
       "      <th>tall</th>\n",
       "      <th>weight</th>\n",
       "      <th>apps_sub</th>\n",
       "      <th>mins</th>\n",
       "      <th>goals</th>\n",
       "      <th>assists</th>\n",
       "      <th>spg</th>\n",
       "      <th>ps_x</th>\n",
       "      <th>motm</th>\n",
       "      <th>aw</th>\n",
       "      <th>...</th>\n",
       "      <th>clear</th>\n",
       "      <th>drb</th>\n",
       "      <th>owng</th>\n",
       "      <th>keyp_x</th>\n",
       "      <th>fouled</th>\n",
       "      <th>off</th>\n",
       "      <th>disp</th>\n",
       "      <th>unstch</th>\n",
       "      <th>avgp</th>\n",
       "      <th>position</th>\n",
       "    </tr>\n",
       "  </thead>\n",
       "  <tbody>\n",
       "    <tr>\n",
       "      <th>208</th>\n",
       "      <td>187</td>\n",
       "      <td>82</td>\n",
       "      <td>0</td>\n",
       "      <td>2430</td>\n",
       "      <td>0</td>\n",
       "      <td>0</td>\n",
       "      <td>0.0</td>\n",
       "      <td>59.7</td>\n",
       "      <td>0</td>\n",
       "      <td>0.5</td>\n",
       "      <td>...</td>\n",
       "      <td>1.2</td>\n",
       "      <td>0.0</td>\n",
       "      <td>0</td>\n",
       "      <td>0.0</td>\n",
       "      <td>0.3</td>\n",
       "      <td>0.0</td>\n",
       "      <td>0.0</td>\n",
       "      <td>0.1</td>\n",
       "      <td>25.5</td>\n",
       "      <td>3</td>\n",
       "    </tr>\n",
       "    <tr>\n",
       "      <th>209</th>\n",
       "      <td>198</td>\n",
       "      <td>83</td>\n",
       "      <td>2</td>\n",
       "      <td>1397</td>\n",
       "      <td>0</td>\n",
       "      <td>0</td>\n",
       "      <td>0.0</td>\n",
       "      <td>47.0</td>\n",
       "      <td>0</td>\n",
       "      <td>0.4</td>\n",
       "      <td>...</td>\n",
       "      <td>1.1</td>\n",
       "      <td>0.1</td>\n",
       "      <td>0</td>\n",
       "      <td>0.0</td>\n",
       "      <td>0.2</td>\n",
       "      <td>0.0</td>\n",
       "      <td>0.0</td>\n",
       "      <td>0.0</td>\n",
       "      <td>19.8</td>\n",
       "      <td>3</td>\n",
       "    </tr>\n",
       "    <tr>\n",
       "      <th>210</th>\n",
       "      <td>199</td>\n",
       "      <td>91</td>\n",
       "      <td>0</td>\n",
       "      <td>2020</td>\n",
       "      <td>0</td>\n",
       "      <td>0</td>\n",
       "      <td>0.0</td>\n",
       "      <td>48.2</td>\n",
       "      <td>0</td>\n",
       "      <td>0.3</td>\n",
       "      <td>...</td>\n",
       "      <td>1.1</td>\n",
       "      <td>0.0</td>\n",
       "      <td>0</td>\n",
       "      <td>0.0</td>\n",
       "      <td>0.0</td>\n",
       "      <td>0.0</td>\n",
       "      <td>0.0</td>\n",
       "      <td>0.0</td>\n",
       "      <td>22.7</td>\n",
       "      <td>3</td>\n",
       "    </tr>\n",
       "    <tr>\n",
       "      <th>211</th>\n",
       "      <td>188</td>\n",
       "      <td>78</td>\n",
       "      <td>0</td>\n",
       "      <td>2970</td>\n",
       "      <td>0</td>\n",
       "      <td>0</td>\n",
       "      <td>0.0</td>\n",
       "      <td>54.2</td>\n",
       "      <td>0</td>\n",
       "      <td>0.2</td>\n",
       "      <td>...</td>\n",
       "      <td>0.8</td>\n",
       "      <td>0.1</td>\n",
       "      <td>0</td>\n",
       "      <td>0.0</td>\n",
       "      <td>0.2</td>\n",
       "      <td>0.0</td>\n",
       "      <td>0.0</td>\n",
       "      <td>0.0</td>\n",
       "      <td>28.9</td>\n",
       "      <td>3</td>\n",
       "    </tr>\n",
       "    <tr>\n",
       "      <th>212</th>\n",
       "      <td>185</td>\n",
       "      <td>81</td>\n",
       "      <td>0</td>\n",
       "      <td>450</td>\n",
       "      <td>0</td>\n",
       "      <td>0</td>\n",
       "      <td>0.0</td>\n",
       "      <td>62.8</td>\n",
       "      <td>0</td>\n",
       "      <td>0.2</td>\n",
       "      <td>...</td>\n",
       "      <td>0.8</td>\n",
       "      <td>0.0</td>\n",
       "      <td>0</td>\n",
       "      <td>0.2</td>\n",
       "      <td>0.0</td>\n",
       "      <td>0.0</td>\n",
       "      <td>0.0</td>\n",
       "      <td>0.0</td>\n",
       "      <td>27.4</td>\n",
       "      <td>3</td>\n",
       "    </tr>\n",
       "  </tbody>\n",
       "</table>\n",
       "<p>5 rows × 23 columns</p>\n",
       "</div>"
      ],
      "text/plain": [
       "     tall  weight  apps_sub  mins  goals  assists  spg  ps_x  motm   aw  \\\n",
       "208   187      82         0  2430      0        0  0.0  59.7     0  0.5   \n",
       "209   198      83         2  1397      0        0  0.0  47.0     0  0.4   \n",
       "210   199      91         0  2020      0        0  0.0  48.2     0  0.3   \n",
       "211   188      78         0  2970      0        0  0.0  54.2     0  0.2   \n",
       "212   185      81         0   450      0        0  0.0  62.8     0  0.2   \n",
       "\n",
       "       ...     clear  drb  owng  keyp_x  fouled  off  disp  unstch  avgp  \\\n",
       "208    ...       1.2  0.0     0     0.0     0.3  0.0   0.0     0.1  25.5   \n",
       "209    ...       1.1  0.1     0     0.0     0.2  0.0   0.0     0.0  19.8   \n",
       "210    ...       1.1  0.0     0     0.0     0.0  0.0   0.0     0.0  22.7   \n",
       "211    ...       0.8  0.1     0     0.0     0.2  0.0   0.0     0.0  28.9   \n",
       "212    ...       0.8  0.0     0     0.2     0.0  0.0   0.0     0.0  27.4   \n",
       "\n",
       "     position  \n",
       "208         3  \n",
       "209         3  \n",
       "210         3  \n",
       "211         3  \n",
       "212         3  \n",
       "\n",
       "[5 rows x 23 columns]"
      ]
     },
     "execution_count": 4,
     "metadata": {},
     "output_type": "execute_result"
    }
   ],
   "source": [
    "forword_df[\"position\"] = 0\n",
    "forword_df\n",
    "\n",
    "midfilder_df[\"position\"] = 1\n",
    "midfilder_df\n",
    "\n",
    "defencer_df[\"position\"] = 2\n",
    "defencer_df\n",
    "\n",
    "goalkeeper_df[\"position\"] = 3\n",
    "goalkeeper_df\n",
    "\n",
    "concated_df = pd.concat([forword_df, midfilder_df, defencer_df, goalkeeper_df])\n",
    "concated_df.tail()"
   ]
  },
  {
   "cell_type": "markdown",
   "metadata": {},
   "source": [
    "# DecisionTree (entropy, gini)"
   ]
  },
  {
   "cell_type": "code",
   "execution_count": 5,
   "metadata": {
    "collapsed": false
   },
   "outputs": [],
   "source": [
    "X_train, X_test, y_train, y_test = train_test_split(concated_df.ix[:,:-1], concated_df.ix[:,-1], test_size=0.2, random_state=1)"
   ]
  },
  {
   "cell_type": "code",
   "execution_count": 6,
   "metadata": {
    "collapsed": true
   },
   "outputs": [],
   "source": [
    "model = DecisionTreeClassifier(criterion='entropy', max_depth=3).fit(X_train, y_train)"
   ]
  },
  {
   "cell_type": "code",
   "execution_count": 7,
   "metadata": {
    "collapsed": false
   },
   "outputs": [
    {
     "data": {
      "text/plain": [
       "array([[ 50,   1,   1,   0],\n",
       "       [ 41, 163,  16,   0],\n",
       "       [  0,  20, 138,   0],\n",
       "       [  0,   0,   0,  34]])"
      ]
     },
     "execution_count": 7,
     "metadata": {},
     "output_type": "execute_result"
    }
   ],
   "source": [
    "confusion_matrix(y_test, model.predict(X_test))"
   ]
  },
  {
   "cell_type": "code",
   "execution_count": 8,
   "metadata": {
    "collapsed": false
   },
   "outputs": [
    {
     "name": "stdout",
     "output_type": "stream",
     "text": [
      "             precision    recall  f1-score   support\n",
      "\n",
      "          0       0.55      0.96      0.70        52\n",
      "          1       0.89      0.74      0.81       220\n",
      "          2       0.89      0.87      0.88       158\n",
      "          3       1.00      1.00      1.00        34\n",
      "\n",
      "avg / total       0.86      0.83      0.83       464\n",
      "\n"
     ]
    }
   ],
   "source": [
    "print(classification_report(y_test, model.predict(X_test)))"
   ]
  },
  {
   "cell_type": "code",
   "execution_count": 9,
   "metadata": {
    "collapsed": false
   },
   "outputs": [],
   "source": [
    "model1 = DecisionTreeClassifier(criterion='gini', max_depth=3).fit(X_train, y_train)"
   ]
  },
  {
   "cell_type": "code",
   "execution_count": 10,
   "metadata": {
    "collapsed": false
   },
   "outputs": [
    {
     "data": {
      "text/plain": [
       "array([[ 46,   5,   1,   0],\n",
       "       [ 33, 175,  12,   0],\n",
       "       [  0,  23, 134,   1],\n",
       "       [  0,   0,   0,  34]])"
      ]
     },
     "execution_count": 10,
     "metadata": {},
     "output_type": "execute_result"
    }
   ],
   "source": [
    "confusion_matrix(y_test, model1.predict(X_test))"
   ]
  },
  {
   "cell_type": "code",
   "execution_count": 11,
   "metadata": {
    "collapsed": false
   },
   "outputs": [
    {
     "name": "stdout",
     "output_type": "stream",
     "text": [
      "             precision    recall  f1-score   support\n",
      "\n",
      "          0       0.58      0.88      0.70        52\n",
      "          1       0.86      0.80      0.83       220\n",
      "          2       0.91      0.85      0.88       158\n",
      "          3       0.97      1.00      0.99        34\n",
      "\n",
      "avg / total       0.86      0.84      0.84       464\n",
      "\n"
     ]
    }
   ],
   "source": [
    "print(classification_report(y_test, model1.predict(X_test)))"
   ]
  },
  {
   "cell_type": "code",
   "execution_count": 12,
   "metadata": {
    "collapsed": false
   },
   "outputs": [
    {
     "data": {
      "text/plain": [
       "586"
      ]
     },
     "execution_count": 12,
     "metadata": {},
     "output_type": "execute_result"
    }
   ],
   "source": [
    "SQL_QUERY = \"\"\"\n",
    "    SELECT \n",
    "        tall, weight, apps_sub, mins, goals, assists\n",
    "        , spg, ps_x, motm, aw, tackles, inter, fouls, clear, drb\n",
    "        , owng, keyp_x, fouled, off, disp, unstch, avgp, position\n",
    "    FROM player\n",
    "    WHERE position like \"%,%\" and mins > 270\n",
    "    ;\n",
    "\"\"\"\n",
    "\n",
    "many_position_player_df = pd.read_sql(SQL_QUERY, db)\n",
    "len(many_position_player_df)"
   ]
  },
  {
   "cell_type": "code",
   "execution_count": 13,
   "metadata": {
    "collapsed": true
   },
   "outputs": [],
   "source": [
    "predict_data = model.predict(many_position_player_df.ix[:,:-1])\n",
    "many_position_player_df[\"recomend_position\"] = predict_data"
   ]
  },
  {
   "cell_type": "markdown",
   "metadata": {},
   "source": [
    "# NaiveBayesian"
   ]
  },
  {
   "cell_type": "code",
   "execution_count": 14,
   "metadata": {
    "collapsed": false
   },
   "outputs": [],
   "source": [
    "from sklearn.naive_bayes import GaussianNB\n",
    "clf_norm = GaussianNB().fit(X_train, y_train)"
   ]
  },
  {
   "cell_type": "code",
   "execution_count": 15,
   "metadata": {
    "collapsed": false
   },
   "outputs": [
    {
     "data": {
      "text/plain": [
       "array([0, 1, 2, 3])"
      ]
     },
     "execution_count": 15,
     "metadata": {},
     "output_type": "execute_result"
    }
   ],
   "source": [
    "clf_norm.classes_"
   ]
  },
  {
   "cell_type": "code",
   "execution_count": 16,
   "metadata": {
    "collapsed": false
   },
   "outputs": [
    {
     "data": {
      "text/plain": [
       "array([ 239.,  777.,  659.,  179.])"
      ]
     },
     "execution_count": 16,
     "metadata": {},
     "output_type": "execute_result"
    }
   ],
   "source": [
    "clf_norm.class_count_"
   ]
  },
  {
   "cell_type": "code",
   "execution_count": 17,
   "metadata": {
    "collapsed": false
   },
   "outputs": [
    {
     "data": {
      "text/plain": [
       "array([ 0.12891046,  0.41909385,  0.35544768,  0.096548  ])"
      ]
     },
     "execution_count": 17,
     "metadata": {},
     "output_type": "execute_result"
    }
   ],
   "source": [
    "clf_norm.class_prior_"
   ]
  },
  {
   "cell_type": "code",
   "execution_count": 18,
   "metadata": {
    "collapsed": false
   },
   "outputs": [
    {
     "data": {
      "text/plain": [
       "(array([[  1.83075314e+02,   7.76987448e+01,   7.35983264e+00,\n",
       "           1.24409205e+03,   5.18410042e+00,   1.81589958e+00,\n",
       "           1.58158996e+00,   6.92046025e+01,   9.62343096e-01,\n",
       "           1.80627615e+00,   5.05857741e-01,   2.60251046e-01,\n",
       "           1.14853556e+00,   4.88702929e-01,   3.31799163e-01,\n",
       "           1.67364017e-02,   6.38075314e-01,   1.03765690e+00,\n",
       "           5.60669456e-01,   1.19456067e+00,   1.55523013e+00,\n",
       "           1.53025105e+01],\n",
       "        [  1.78239382e+02,   7.23886744e+01,   5.54182754e+00,\n",
       "           1.48401030e+03,   2.05791506e+00,   2.05405405e+00,\n",
       "           1.01981982e+00,   7.86761905e+01,   8.24967825e-01,\n",
       "           8.20077220e-01,   1.48545689e+00,   1.20025740e+00,\n",
       "           1.08532819e+00,   6.50707851e-01,   8.47490347e-01,\n",
       "           1.80180180e-02,   8.91248391e-01,   1.06808237e+00,\n",
       "           1.10810811e-01,   1.03758044e+00,   1.04826255e+00,\n",
       "           3.08882883e+01],\n",
       "        [  1.83716237e+02,   7.77374810e+01,   1.81031866e+00,\n",
       "           1.66423520e+03,   7.01062215e-01,   6.85887709e-01,\n",
       "           3.96054628e-01,   7.84901366e+01,   6.73748103e-01,\n",
       "           1.70758725e+00,   1.73945372e+00,   2.27511381e+00,\n",
       "           9.92109256e-01,   3.70121396e+00,   5.70409712e-01,\n",
       "           1.62367223e-01,   3.44157815e-01,   7.30045524e-01,\n",
       "           4.17298938e-02,   3.17905918e-01,   4.37481032e-01,\n",
       "           3.67092564e+01],\n",
       "        [  1.88877095e+02,   8.31955307e+01,   1.62011173e-01,\n",
       "           1.99498883e+03,   5.58659218e-03,   4.46927374e-02,\n",
       "           1.67597765e-03,   5.44016760e+01,   7.26256983e-01,\n",
       "           2.56983240e-01,   2.01117318e-02,   6.20111732e-02,\n",
       "           2.06703911e-02,   8.67597765e-01,   5.19553073e-02,\n",
       "           7.82122905e-02,   2.56983240e-02,   1.24022346e-01,\n",
       "           0.00000000e+00,   1.11731844e-03,   3.07262570e-02,\n",
       "           2.68240223e+01]]),\n",
       " array([[  3.17668727e+02,   1.40470674e+02,   2.49256726e+01,\n",
       "           5.96006335e+05,   3.09208408e+01,   4.01707507e+00,\n",
       "           6.39164672e-01,   5.47530807e+01,   2.70645376e+00,\n",
       "           2.15423409e+00,   1.14197322e-01,   6.14801078e-02,\n",
       "           2.66018194e-01,   1.39250455e-01,   5.14631263e-02,\n",
       "           1.72151264e-02,   1.21359312e-01,   3.22771752e-01,\n",
       "           1.31931606e-01,   3.10645564e-01,   3.99047377e-01,\n",
       "           3.72469450e+01],\n",
       "        [  1.54903558e+02,   5.97827670e+01,   1.93584044e+01,\n",
       "           6.72000554e+05,   6.62932231e+00,   6.25781125e+00,\n",
       "           3.64561631e-01,   4.54498058e+01,   1.92379052e+00,\n",
       "           5.66765004e-01,   5.79376159e-01,   5.94787080e-01,\n",
       "           2.79127868e-01,   3.17595525e-01,   2.03921774e-01,\n",
       "           2.10262035e-02,   3.44723425e-01,   3.29830187e-01,\n",
       "           2.13369390e-02,   3.09642553e-01,   2.70771901e-01,\n",
       "           2.23698189e+02],\n",
       "        [  8.40370809e+01,   4.73779731e+01,   4.77054614e+00,\n",
       "           7.17911440e+05,   1.13294283e+00,   1.22682675e+00,\n",
       "           7.27918244e-02,   5.00167313e+01,   1.21905298e+00,\n",
       "           8.39608701e-01,   5.31281144e-01,   5.62233591e-01,\n",
       "           1.59816447e-01,   2.86706995e+00,   9.76829433e-02,\n",
       "           1.79251559e-01,   9.27846401e-02,   1.72966872e-01,\n",
       "           6.07359356e-03,   8.38979976e-02,   8.37697857e-02,\n",
       "           1.34336106e+02],\n",
       "        [  1.97845359e+01,   2.86831970e+01,   2.03561491e-01,\n",
       "           1.11670720e+06,   6.31421408e-03,   5.46273129e-02,\n",
       "           1.03535262e-03,   1.14281147e+02,   1.02638225e+00,\n",
       "           3.18134182e-02,   3.14764625e-03,   7.80730106e-03,\n",
       "           3.18072886e-03,   1.38256413e-01,   5.26618187e-03,\n",
       "           8.40271444e-02,   4.12077443e-03,   1.14108091e-02,\n",
       "           7.58831915e-04,   9.81047202e-04,   4.33986871e-03,\n",
       "           2.15238130e+01]]))"
      ]
     },
     "execution_count": 18,
     "metadata": {},
     "output_type": "execute_result"
    }
   ],
   "source": [
    "clf_norm.theta_, clf_norm.sigma_"
   ]
  },
  {
   "cell_type": "code",
   "execution_count": 19,
   "metadata": {
    "collapsed": false
   },
   "outputs": [
    {
     "name": "stdout",
     "output_type": "stream",
     "text": [
      "             precision    recall  f1-score   support\n",
      "\n",
      "          0     0.6849    0.9615    0.8000        52\n",
      "          1     0.9076    0.7591    0.8267       220\n",
      "          2     0.8208    0.8987    0.8580       158\n",
      "          3     1.0000    1.0000    1.0000        34\n",
      "\n",
      "avg / total     0.8599    0.8470    0.8471       464\n",
      "\n"
     ]
    }
   ],
   "source": [
    "print(classification_report(y_test, clf_norm.predict(X_test), digits=4))\n"
   ]
  },
  {
   "cell_type": "code",
   "execution_count": null,
   "metadata": {
    "collapsed": true
   },
   "outputs": [],
   "source": []
  }
 ],
 "metadata": {
  "kernelspec": {
   "display_name": "Python 3",
   "language": "python",
   "name": "python3"
  },
  "language_info": {
   "codemirror_mode": {
    "name": "ipython",
    "version": 3
   },
   "file_extension": ".py",
   "mimetype": "text/x-python",
   "name": "python",
   "nbconvert_exporter": "python",
   "pygments_lexer": "ipython3",
   "version": "3.5.1"
  }
 },
 "nbformat": 4,
 "nbformat_minor": 0
}
