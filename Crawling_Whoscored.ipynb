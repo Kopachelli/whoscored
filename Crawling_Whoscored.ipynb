{
 "cells": [
  {
   "cell_type": "markdown",
   "metadata": {},
   "source": [
    "# Crawling Whoscored Web Site\n",
    "1. https://www.whoscored.com/\n",
    "2. Crawling\n",
    "    - League Team\n",
    "    - Player Summary\n",
    "    - Player Defensive\n",
    "    - Player Offensive\n",
    "    - Player Passing\n",
    "3. Make Pickle"
   ]
  },
  {
   "cell_type": "markdown",
   "metadata": {},
   "source": [
    "### Import Package"
   ]
  },
  {
   "cell_type": "code",
   "execution_count": 11,
   "metadata": {
    "collapsed": true
   },
   "outputs": [],
   "source": [
    "import pandas as pd\n",
    "import time\n",
    "from selenium import webdriver"
   ]
  },
  {
   "cell_type": "markdown",
   "metadata": {},
   "source": [
    "### 0. Useful Common Var & Function "
   ]
  },
  {
   "cell_type": "code",
   "execution_count": 53,
   "metadata": {
    "collapsed": true
   },
   "outputs": [],
   "source": [
    "api_delay_term = 5\n",
    "\n",
    "def connect_webdriver(url):\n",
    "    \"\"\"\n",
    "    connect webdriver get url and return driver\n",
    "    \n",
    "    \"\"\"\n",
    "    driver =  webdriver.PhantomJS()\n",
    "    driver.get(url)\n",
    "    return driver \n",
    "\n",
    "def replace_pd(df):\n",
    "    \"\"\"\n",
    "    replace pandas dataframe datas \"-\" to 0\n",
    "    \n",
    "    \"\"\"\n",
    "    \n",
    "    # mapping pattern\n",
    "    mapping = {'-': 0}\n",
    "    \n",
    "    replace_dict = {}\n",
    "    \n",
    "    for colum in df.columns:\n",
    "        replace_dict[colum] = mapping\n",
    "        \n",
    "    return df.replace(replace_dict)"
   ]
  },
  {
   "cell_type": "markdown",
   "metadata": {},
   "source": [
    "### 1. Crawling League Team Data Function"
   ]
  },
  {
   "cell_type": "code",
   "execution_count": 57,
   "metadata": {
    "collapsed": false
   },
   "outputs": [],
   "source": [
    "def crawling_league_teams(team_id):\n",
    "    \"\"\"\n",
    "    cawling league team_id and team name datas\n",
    "    \n",
    "    parameter ---------------------------------------------------------------\n",
    "    team_id : one of you want league team_id & parameter data type int or str\n",
    "    \n",
    "    return ------------------------------------------------------------------\n",
    "    crawling league team_id, team_name datas belong team_id parameter\n",
    "    return pandas dataframe columns=team_id, team_name\n",
    "    \n",
    "    \"\"\"\n",
    "    \n",
    "    # connect webdriver\n",
    "    url = \"https://www.whoscored.com/Teams/\" + str(team_id)\n",
    "    driver = connect_webdriver(url) \n",
    "    \n",
    "    # wait get league team datas\n",
    "    time.sleep(api_delay_term) \n",
    "    \n",
    "    # make pandas dataframe\n",
    "    team_df = pd.DataFrame(columns=[\"team_id\",\"team_name\"])\n",
    "    \n",
    "    # get team datas\n",
    "    teams = driver.find_elements_by_css_selector(\"#teams option\")\n",
    "    for team in teams:\n",
    "        team_name = team.text\n",
    "        team_id = team.get_attribute(\"value\").split(\"/\")[2]\n",
    "        team_df.loc[len(team_df)] = {\"team_id\":team_id, \"team_name\":team_name }\n",
    "        \n",
    "    # close webdriver\n",
    "    driver.close()\n",
    "    \n",
    "    return team_df"
   ]
  },
  {
   "cell_type": "markdown",
   "metadata": {},
   "source": [
    "### 2. Crawling Players Summary Data Function"
   ]
  },
  {
   "cell_type": "code",
   "execution_count": 58,
   "metadata": {
    "collapsed": true
   },
   "outputs": [],
   "source": [
    "def crawling_player_summary(team_id):\n",
    "    \"\"\"\n",
    "    cawling player summary data \n",
    "        \n",
    "    parameter -------------------------------------------------------------------\n",
    "    team_id : one of you want team_id of players & parameter data type int or str\n",
    "    \n",
    "    return ----------------------------------------------------------------------\n",
    "    pandas dataframe belong player's ability\n",
    "    player_nuber, flag, name, age, position, tall, weight, full_time, half_time\n",
    "    , mins, goals, asists, yel, red, spg, ps, motm, aw, rating\n",
    "    \n",
    "    \"\"\"    \n",
    "    \n",
    "    # connect webdriver\n",
    "    url = \"https://www.whoscored.com/Teams/\" + str(team_id)\n",
    "    driver = connect_webdriver(url) \n",
    "\n",
    "    # wait for getting data\n",
    "    time.sleep(api_delay_term)\n",
    "    \n",
    "    # make pandas dataframe\n",
    "    player_summary_df = pd.DataFrame(columns=[\n",
    "            \"player_number\", \"flag\", \"name\", \"age\", \"position\"\n",
    "            , \"tall\", \"weight\", \"full_time\", \"half_time\", \"mins\"\n",
    "            , \"goals\", \"asists\", \"yel\", \"red\", \"spg\", \"ps\", \"motm\"\n",
    "            , \"aw\", \"rating\",\n",
    "        ])\n",
    "    \n",
    "    # get player summay datas\n",
    "    elements = driver.find_elements_by_css_selector(\"#player-table-statistics-body tr\")\n",
    "    for element in elements:\n",
    "        \n",
    "        # split full time games and half time games\n",
    "        games = element.find_elements_by_css_selector(\"td\")[5].text\n",
    "        games = games.split(\"(\")\n",
    "        full_time, half_time = games[0], 0\n",
    "        if len(games) > 1 :\n",
    "            half_time = games[1].replace(\")\",\"\")\n",
    "        else :\n",
    "            half_time = 0\n",
    "        \n",
    "        # player dictionary data\n",
    "        player_dict = { \n",
    "            \"player_number\": element.find_elements_by_css_selector(\"td\")[2].find_elements_by_css_selector(\"a\")[0].get_attribute(\"href\").split(\"/\")[4], \n",
    "            \"flag\": element.find_elements_by_css_selector(\"td\")[1].find_elements_by_css_selector(\"span\")[0].get_attribute(\"class\").split(\"-\")[2],\n",
    "            \"name\": element.find_elements_by_css_selector(\"td\")[2].find_elements_by_css_selector(\"a\")[0].text, \n",
    "            \"age\": element.find_elements_by_css_selector(\"td\")[2].find_elements_by_css_selector(\"span\")[0].text, \n",
    "            \"position\": element.find_elements_by_css_selector(\"td\")[2].find_elements_by_css_selector(\"span\")[1].text[1:], \n",
    "            \"tall\": element.find_elements_by_css_selector(\"td\")[3].text,\n",
    "            \"weight\": element.find_elements_by_css_selector(\"td\")[4].text, \n",
    "            \"full_time\": full_time,\n",
    "            \"half_time\": half_time,\n",
    "            \"mins\": element.find_elements_by_css_selector(\"td\")[6].text,\n",
    "            \"goals\": element.find_elements_by_css_selector(\"td\")[7].text,\n",
    "            \"asists\": element.find_elements_by_css_selector(\"td\")[8].text,\n",
    "            \"yel\": element.find_elements_by_css_selector(\"td\")[9].text,\n",
    "            \"red\": element.find_elements_by_css_selector(\"td\")[10].text,\n",
    "            \"spg\": element.find_elements_by_css_selector(\"td\")[11].text,\n",
    "            \"ps\": element.find_elements_by_css_selector(\"td\")[12].text,\n",
    "            \"aw\": element.find_elements_by_css_selector(\"td\")[13].text,\n",
    "            \"motm\": element.find_elements_by_css_selector(\"td\")[14].text,\n",
    "            \"rating\": element.find_elements_by_css_selector(\"td\")[15].text,\n",
    "        }\n",
    "        \n",
    "        player_summary_df.loc[len(player_summary_df)] = player_dict\n",
    "    \n",
    "    # close webdriver\n",
    "    driver.close()\n",
    "    \n",
    "    return replace_pd(player_summary_df)"
   ]
  },
  {
   "cell_type": "markdown",
   "metadata": {},
   "source": [
    "### 3. Crawling Players Defensive Data Function"
   ]
  },
  {
   "cell_type": "code",
   "execution_count": 59,
   "metadata": {
    "collapsed": true
   },
   "outputs": [],
   "source": [
    "def crawling_player_defensive(team_id):\n",
    "    \"\"\"\n",
    "    cawling player defensive data \n",
    "        \n",
    "    parameter -------------------------------------------------------------------\n",
    "    team_id : one of you want team_id of players & parameter data type int or str\n",
    "    \n",
    "    return ----------------------------------------------------------------------\n",
    "    pandas dataframe belong player's ability\n",
    "    player_number, tackles, inter, fouls, offsides, clear, drb, blocks, owng\n",
    "    \n",
    "    \"\"\"  \n",
    "\n",
    "    # connect webdriver\n",
    "    url = \"https://www.whoscored.com/Teams/\" + str(team_id)\n",
    "    driver = connect_webdriver(url) \n",
    "    \n",
    "    # wait for getting data\n",
    "    time.sleep(api_delay_term)\n",
    "    \n",
    "    # click event for getting defensive data\n",
    "    driver.find_elements_by_css_selector(\"#team-squad-stats-options .in-squad-detailed-view\")[0].find_element_by_css_selector(\"a\").click()\n",
    "    \n",
    "    # wait for getting data\n",
    "    time.sleep(api_delay_term)\n",
    "    \n",
    "    # make pandas dataframe\n",
    "    player_defensive_df = pd.DataFrame(columns=[\n",
    "            \"player_number\", \"tackles\", \"inter\", \"fouls\", \"offsides\", \"clear\", \"drb\", \"blocks\", \"owng\"\n",
    "        ])\n",
    "    \n",
    "    # get player defensive datas\n",
    "    elements = driver.find_elements_by_css_selector(\"#team-squad-stats-defensive #player-table-statistics-body tr\")\n",
    "    for element in elements:\n",
    "       \n",
    "        player_dict = {\n",
    "            \"player_number\": element.find_elements_by_css_selector(\"td\")[2].find_elements_by_css_selector(\"a\")[0].get_attribute(\"href\").split(\"/\")[4], \n",
    "            \"tackles\": element.find_elements_by_css_selector(\"td\")[7].text, \n",
    "            \"inter\": element.find_elements_by_css_selector(\"td\")[8].text, \n",
    "            \"fouls\": element.find_elements_by_css_selector(\"td\")[9].text,\n",
    "            \"offsides\": element.find_elements_by_css_selector(\"td\")[10].text,\n",
    "            \"clear\": element.find_elements_by_css_selector(\"td\")[11].text,\n",
    "            \"drb\": element.find_elements_by_css_selector(\"td\")[12].text,\n",
    "            \"blocks\": element.find_elements_by_css_selector(\"td\")[13].text,\n",
    "            \"owng\": element.find_elements_by_css_selector(\"td\")[14].text,\n",
    "        }\n",
    "        \n",
    "        player_defensive_df.loc[len(player_defensive_df)] = player_dict\n",
    "    \n",
    "    # close webdriver\n",
    "    driver.close()\n",
    "    \n",
    "    return replace_pd(player_defensive_df)"
   ]
  },
  {
   "cell_type": "markdown",
   "metadata": {},
   "source": [
    "### 4. Crawling Players Offensive Data Function"
   ]
  },
  {
   "cell_type": "code",
   "execution_count": 61,
   "metadata": {
    "collapsed": true
   },
   "outputs": [],
   "source": [
    "def crawling_player_offensive(team_id):\n",
    "    \n",
    "    \"\"\"\n",
    "    cawling player defensive data \n",
    "        \n",
    "    parameter -------------------------------------------------------------------\n",
    "    team_id : one of you want team_id of players & parameter data type int or str\n",
    "    \n",
    "    return ----------------------------------------------------------------------\n",
    "    pandas dataframe belong player's ability\n",
    "    player_number, keyp, fouled, off, disp, unstch\n",
    "    \n",
    "    \"\"\"  \n",
    "\n",
    "    # connect webdriver\n",
    "    url = \"https://www.whoscored.com/Teams/\" + str(team_id)\n",
    "    driver = connect_webdriver(url) \n",
    "    \n",
    "    # wait for getting data\n",
    "    time.sleep(api_delay_term)\n",
    "    \n",
    "    # click event for getting data\n",
    "    driver.find_elements_by_css_selector(\"#team-squad-stats-options .in-squad-detailed-view\")[1].find_element_by_css_selector(\"a\").click()\n",
    "    \n",
    "    # wait for getting data\n",
    "    time.sleep(api_delay_term)\n",
    "    \n",
    "    # make pandas dataframe\n",
    "    player_offensive_df = pd.DataFrame(columns=[\"player_number\", \"keyp\", \"fouled\", \"off\", \"disp\", \"unstch\"])\n",
    "    \n",
    "    # get player offensive datas\n",
    "    elements = driver.find_elements_by_css_selector(\"#statistics-table-offensive #player-table-statistics-body tr\")\n",
    "    for element in elements:\n",
    "    \n",
    "        player_dict = {\n",
    "            \"player_number\": element.find_elements_by_css_selector(\"td\")[2].find_elements_by_css_selector(\"a\")[0].get_attribute(\"href\").split(\"/\")[4], \n",
    "            \"keyp\": element.find_elements_by_css_selector(\"td\")[10].text, \n",
    "            \"fouled\": element.find_elements_by_css_selector(\"td\")[12].text, \n",
    "            \"off\": element.find_elements_by_css_selector(\"td\")[13].text,\n",
    "            \"disp\": element.find_elements_by_css_selector(\"td\")[14].text,\n",
    "            \"unstch\": element.find_elements_by_css_selector(\"td\")[15].text,\n",
    "        }\n",
    "        \n",
    "        player_offensive_df.loc[len(player_offensive_df)] = player_dict\n",
    "        \n",
    "    # close webdriver\n",
    "    driver.close()\n",
    "    \n",
    "    return replace_pd(player_offensive_df)"
   ]
  },
  {
   "cell_type": "markdown",
   "metadata": {},
   "source": [
    "### 5. Crawling Players Passing Data Function"
   ]
  },
  {
   "cell_type": "code",
   "execution_count": 71,
   "metadata": {
    "collapsed": true
   },
   "outputs": [],
   "source": [
    "def crawling_player_passing(team_id):\n",
    "    \n",
    "    \"\"\"\n",
    "    cawling player defensive data \n",
    "        \n",
    "    parameter -------------------------------------------------------------------\n",
    "    team_id : one of you want team_id of players & parameter data type int or str\n",
    "    \n",
    "    return ----------------------------------------------------------------------\n",
    "    pandas dataframe belong player's ability\n",
    "    player_number, avgp, ps, crosses, longb, thrb\n",
    "    \n",
    "    \"\"\" \n",
    "    \n",
    "    # connect webdriver\n",
    "    url = \"https://www.whoscored.com/Teams/\" + str(team_id)\n",
    "    driver = connect_webdriver(url) \n",
    "    \n",
    "    # wait for gettig data\n",
    "    time.sleep(api_delay_term)\n",
    "    \n",
    "    # click event for gettig data\n",
    "    driver.find_elements_by_css_selector(\"#team-squad-stats-options .in-squad-detailed-view\")[2].find_element_by_css_selector(\"a\").click()\n",
    "\n",
    "    # wait for gettig data\n",
    "    time.sleep(api_delay_term)\n",
    "    \n",
    "    # make pnadas dateframe\n",
    "    player_passing_df = pd.DataFrame(columns=[\n",
    "            \"player_number\", \"avgp\", \"ps\", \"crosses\", \"longb\", \"thrb\"\n",
    "        ])\n",
    "\n",
    "    # get data\n",
    "    elements = driver.find_elements_by_css_selector(\"#statistics-table-passing #player-table-statistics-body tr\")\n",
    "    for element in elements:\n",
    "       \n",
    "        player_dict = {\n",
    "            \"player_number\": element.find_elements_by_css_selector(\"td\")[2].find_elements_by_css_selector(\"a\")[0].get_attribute(\"href\").split(\"/\")[4], \n",
    "            \"avgp\": element.find_elements_by_css_selector(\"td\")[8].text, \n",
    "            \"ps\": element.find_elements_by_css_selector(\"td\")[9].text, \n",
    "            \"crosses\": element.find_elements_by_css_selector(\"td\")[10].text,\n",
    "            \"longb\": element.find_elements_by_css_selector(\"td\")[11].text,\n",
    "            \"thrb\": element.find_elements_by_css_selector(\"td\")[12].text,\n",
    "        }\n",
    "        \n",
    "        player_passing_df.loc[len(player_passing_df)] = player_dict\n",
    "    \n",
    "    # close webdriver\n",
    "    driver.close()\n",
    "    \n",
    "    return replace_pd(player_passing_df)"
   ]
  },
  {
   "cell_type": "markdown",
   "metadata": {},
   "source": [
    "### 6. Crawling Function to Pickle"
   ]
  },
  {
   "cell_type": "code",
   "execution_count": 73,
   "metadata": {
    "collapsed": false
   },
   "outputs": [
    {
     "name": "stdout",
     "output_type": "stream",
     "text": [
      "Save pkl_file (path:./pkl/crawling_team.pkl)\n",
      "Save pkl_file (path:./pkl/crawling_defensive.pkl)\n",
      "Save pkl_file (path:./pkl/crawling_offensive.pkl)\n",
      "Save pkl_file (path:./pkl/crawling_passing.pkl)\n"
     ]
    }
   ],
   "source": [
    "import pickle\n",
    "\n",
    "def save_pkl(pkl_file, path):\n",
    "    pickle.dump(pkl_file, open(path, \"wb\"))\n",
    "    print(\"Save pkl_file (path:{0})\".format(path))\n",
    "\n",
    "# make crawling_league_teams function pkl file & save\n",
    "crawling_team = pickle.dumps(crawling_league_teams)\n",
    "save_pkl(crawling_team, \"./pkl/crawling_team.pkl\")\n",
    "\n",
    "# make crawling_player_defensive function pkl file & save\n",
    "crawling_defensive = pickle.dumps(crawling_player_defensive)\n",
    "save_pkl(crawling_defensive, \"./pkl/crawling_defensive.pkl\")\n",
    "    \n",
    "# make crawling_player_offensive function pkl file & save\n",
    "crawling_offensive = pickle.dumps(crawling_player_offensive)\n",
    "save_pkl(crawling_offensive, \"./pkl/crawling_offensive.pkl\")\n",
    "    \n",
    "# make crawling_player_passing function pkl file & save\n",
    "crawling_passing = pickle.dumps(crawling_player_passing)\n",
    "save_pkl(crawling_passing, \"./pkl/crawling_passing.pkl\")"
   ]
  },
  {
   "cell_type": "code",
   "execution_count": 74,
   "metadata": {
    "collapsed": true
   },
   "outputs": [],
   "source": [
    "# load pickle\n",
    "crawling_team_pkl_function = pickle.loads(pickle.load(open(\"./pkl/crawling_team.pkl\", \"rb\")))"
   ]
  },
  {
   "cell_type": "code",
   "execution_count": 76,
   "metadata": {
    "collapsed": false
   },
   "outputs": [
    {
     "data": {
      "text/html": [
       "<div>\n",
       "<table border=\"1\" class=\"dataframe\">\n",
       "  <thead>\n",
       "    <tr style=\"text-align: right;\">\n",
       "      <th></th>\n",
       "      <th>team_id</th>\n",
       "      <th>team_name</th>\n",
       "    </tr>\n",
       "  </thead>\n",
       "  <tbody>\n",
       "    <tr>\n",
       "      <th>0</th>\n",
       "      <td>13</td>\n",
       "      <td>Arsenal</td>\n",
       "    </tr>\n",
       "    <tr>\n",
       "      <th>1</th>\n",
       "      <td>24</td>\n",
       "      <td>Aston Villa</td>\n",
       "    </tr>\n",
       "    <tr>\n",
       "      <th>2</th>\n",
       "      <td>183</td>\n",
       "      <td>Bournemouth</td>\n",
       "    </tr>\n",
       "    <tr>\n",
       "      <th>3</th>\n",
       "      <td>15</td>\n",
       "      <td>Chelsea</td>\n",
       "    </tr>\n",
       "    <tr>\n",
       "      <th>4</th>\n",
       "      <td>162</td>\n",
       "      <td>Crystal Palace</td>\n",
       "    </tr>\n",
       "  </tbody>\n",
       "</table>\n",
       "</div>"
      ],
      "text/plain": [
       "  team_id       team_name\n",
       "0      13         Arsenal\n",
       "1      24     Aston Villa\n",
       "2     183     Bournemouth\n",
       "3      15         Chelsea\n",
       "4     162  Crystal Palace"
      ]
     },
     "execution_count": 76,
     "metadata": {},
     "output_type": "execute_result"
    }
   ],
   "source": [
    "# using loaded pickle function\n",
    "crawling_team_pkl_function(13).head()"
   ]
  },
  {
   "cell_type": "code",
   "execution_count": null,
   "metadata": {
    "collapsed": true
   },
   "outputs": [],
   "source": []
  }
 ],
 "metadata": {
  "kernelspec": {
   "display_name": "Python 3",
   "language": "python",
   "name": "python3"
  },
  "language_info": {
   "codemirror_mode": {
    "name": "ipython",
    "version": 3
   },
   "file_extension": ".py",
   "mimetype": "text/x-python",
   "name": "python",
   "nbconvert_exporter": "python",
   "pygments_lexer": "ipython3",
   "version": "3.5.1"
  }
 },
 "nbformat": 4,
 "nbformat_minor": 0
}
